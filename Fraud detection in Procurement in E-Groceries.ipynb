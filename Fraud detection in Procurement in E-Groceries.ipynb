{
 "cells": [
  {
   "cell_type": "code",
   "execution_count": 1,
   "id": "3dac2109",
   "metadata": {},
   "outputs": [],
   "source": [
    "from pymysql import connect\n",
    "import pandas as pd\n",
    "import numpy as np\n",
    "import seaborn as sns\n",
    "import matplotlib.pyplot as plt\n",
    "import warnings\n",
    "from sklearn.impute import SimpleImputer\n",
    "from feature_engine.outliers import Winsorizer\n",
    "from sklearn.preprocessing import LabelEncoder\n",
    "from sklearn.model_selection import KFold, cross_val_score\n",
    "from sklearn.linear_model import SGDClassifier"
   ]
  },
  {
   "cell_type": "code",
   "execution_count": 2,
   "id": "c1cdbcc6",
   "metadata": {},
   "outputs": [],
   "source": [
    "import warnings\n",
    "warnings.filterwarnings('ignore') # setting ignore as a parameter"
   ]
  },
  {
   "cell_type": "code",
   "execution_count": 3,
   "id": "adaed917",
   "metadata": {},
   "outputs": [],
   "source": [
    "import statsmodels.formula.api as sm\n",
    "from sklearn.model_selection import train_test_split # train and test \n",
    "from sklearn import metrics\n",
    "from sklearn.metrics import roc_curve , auc\n",
    "from sklearn.metrics import classification_report\n",
    "import warnings\n",
    "from sklearn.linear_model import Lasso\n",
    "from sklearn.linear_model import Ridge\n",
    "from sklearn.ensemble import BaggingClassifier,RandomForestClassifier,StackingClassifier\n",
    "from sklearn.tree import DecisionTreeClassifier, ExtraTreeClassifier\n",
    "from sklearn.ensemble import AdaBoostClassifier, GradientBoostingClassifier\n",
    "from sklearn import tree\n",
    "from sklearn.linear_model import LogisticRegression\n",
    "from sklearn.neighbors import KNeighborsClassifier\n",
    "from sklearn.svm import SVC"
   ]
  },
  {
   "cell_type": "code",
   "execution_count": 97,
   "id": "8f88f110",
   "metadata": {},
   "outputs": [],
   "source": [
    "from sklearn.metrics import classification_report, accuracy_score, precision_score, recall_score,f1_score\n",
    "from sklearn.model_selection import GridSearchCV\n",
    "from sklearn.metrics import confusion_matrix,ConfusionMatrixDisplay,plot_confusion_matrix\n",
    "from sklearn.model_selection import RandomizedSearchCV\n",
    "from sklearn.ensemble import ExtraTreesClassifier\n",
    "from sklearn.model_selection import train_test_split\n",
    "from sklearn.pipeline import make_pipeline\n",
    "from sklearn.preprocessing import Binarizer\n",
    "from tpot.export_utils import set_param_recursive\n"
   ]
  },
  {
   "cell_type": "markdown",
   "id": "5579b5c5",
   "metadata": {},
   "source": [
    "# Connection MySQL to Python"
   ]
  },
  {
   "cell_type": "code",
   "execution_count": 5,
   "id": "d0631184",
   "metadata": {},
   "outputs": [],
   "source": [
    "data_base=connect(host='localhost',\n",
    "                    user='root',\n",
    "                    passwd='Jaydeep@123',\n",
    "                    database='procurement')"
   ]
  },
  {
   "cell_type": "code",
   "execution_count": 6,
   "id": "15003b49",
   "metadata": {},
   "outputs": [],
   "source": [
    "cur=data_base.cursor()"
   ]
  },
  {
   "cell_type": "code",
   "execution_count": 7,
   "id": "023fc792",
   "metadata": {},
   "outputs": [
    {
     "data": {
      "text/plain": [
       "30000"
      ]
     },
     "execution_count": 7,
     "metadata": {},
     "output_type": "execute_result"
    }
   ],
   "source": [
    "q= 'select * from procurement.fraud_data'\n",
    "cur.execute(q)"
   ]
  },
  {
   "cell_type": "code",
   "execution_count": 8,
   "id": "55a44469",
   "metadata": {
    "scrolled": true
   },
   "outputs": [
    {
     "data": {
      "text/html": [
       "<div>\n",
       "<style scoped>\n",
       "    .dataframe tbody tr th:only-of-type {\n",
       "        vertical-align: middle;\n",
       "    }\n",
       "\n",
       "    .dataframe tbody tr th {\n",
       "        vertical-align: top;\n",
       "    }\n",
       "\n",
       "    .dataframe thead th {\n",
       "        text-align: right;\n",
       "    }\n",
       "</style>\n",
       "<table border=\"1\" class=\"dataframe\">\n",
       "  <thead>\n",
       "    <tr style=\"text-align: right;\">\n",
       "      <th></th>\n",
       "      <th>InvoiceID</th>\n",
       "      <th>PO_Id</th>\n",
       "      <th>Purchase_date</th>\n",
       "      <th>Vendor_name</th>\n",
       "      <th>Category</th>\n",
       "      <th>Name_Grocery</th>\n",
       "      <th>Item_Number</th>\n",
       "      <th>Quan_send_by_vendor</th>\n",
       "      <th>Quan_rec_by_procurement</th>\n",
       "      <th>Quan_send_by_procurement</th>\n",
       "      <th>Approval_oficer_name</th>\n",
       "      <th>Requesting_officer_name</th>\n",
       "      <th>Unit_Purchase_Price</th>\n",
       "      <th>Unit_Selling_price</th>\n",
       "      <th>Eligibility_Criteria</th>\n",
       "      <th>Total_purchase_price</th>\n",
       "      <th>Total_Selling_price</th>\n",
       "      <th>Fraud</th>\n",
       "    </tr>\n",
       "  </thead>\n",
       "  <tbody>\n",
       "    <tr>\n",
       "      <th>0</th>\n",
       "      <td>545495149</td>\n",
       "      <td>PO001</td>\n",
       "      <td>2018-07-01</td>\n",
       "      <td>Garden fresh</td>\n",
       "      <td>Spices&amp;Herbs</td>\n",
       "      <td>Cilantro</td>\n",
       "      <td>GR0034</td>\n",
       "      <td>68.5</td>\n",
       "      <td>68.5</td>\n",
       "      <td>68.5</td>\n",
       "      <td>Frank Green</td>\n",
       "      <td>Tyler Norris</td>\n",
       "      <td>79.2</td>\n",
       "      <td>83.6</td>\n",
       "      <td>YES</td>\n",
       "      <td>542520.0</td>\n",
       "      <td>572660.0</td>\n",
       "      <td>1</td>\n",
       "    </tr>\n",
       "    <tr>\n",
       "      <th>1</th>\n",
       "      <td>545495150</td>\n",
       "      <td>PO002</td>\n",
       "      <td>2018-07-01</td>\n",
       "      <td>puja vegetable shop</td>\n",
       "      <td>Baking</td>\n",
       "      <td>Vegetable Oil</td>\n",
       "      <td>GR0065</td>\n",
       "      <td>77.4</td>\n",
       "      <td>76.5</td>\n",
       "      <td>76.5</td>\n",
       "      <td>Phillip Johnson</td>\n",
       "      <td>Thomas Patrick</td>\n",
       "      <td>86.7</td>\n",
       "      <td>86.9</td>\n",
       "      <td>YES</td>\n",
       "      <td>663255.0</td>\n",
       "      <td>664785.0</td>\n",
       "      <td>1</td>\n",
       "    </tr>\n",
       "    <tr>\n",
       "      <th>2</th>\n",
       "      <td>545495151</td>\n",
       "      <td>PO003</td>\n",
       "      <td>2018-07-01</td>\n",
       "      <td>Freshbazar</td>\n",
       "      <td>PersonalCare</td>\n",
       "      <td>Cosmetics</td>\n",
       "      <td>GR0070</td>\n",
       "      <td>75.4</td>\n",
       "      <td>75.4</td>\n",
       "      <td>75.4</td>\n",
       "      <td>Robert Hammond</td>\n",
       "      <td>Jose Holmes</td>\n",
       "      <td>51.7</td>\n",
       "      <td>52.7</td>\n",
       "      <td>YES</td>\n",
       "      <td>389818.0</td>\n",
       "      <td>397358.0</td>\n",
       "      <td>0</td>\n",
       "    </tr>\n",
       "    <tr>\n",
       "      <th>3</th>\n",
       "      <td>545495152</td>\n",
       "      <td>PO004</td>\n",
       "      <td>2018-07-01</td>\n",
       "      <td>Rupdasi market</td>\n",
       "      <td>Spices&amp;Herbs</td>\n",
       "      <td>Cilantro</td>\n",
       "      <td>GR0034</td>\n",
       "      <td>66.6</td>\n",
       "      <td>66.6</td>\n",
       "      <td>66.6</td>\n",
       "      <td>Hannah Hernandez</td>\n",
       "      <td>Catherine Martinez</td>\n",
       "      <td>61.9</td>\n",
       "      <td>62.4</td>\n",
       "      <td>YES</td>\n",
       "      <td>412254.0</td>\n",
       "      <td>415584.0</td>\n",
       "      <td>0</td>\n",
       "    </tr>\n",
       "    <tr>\n",
       "      <th>4</th>\n",
       "      <td>545495153</td>\n",
       "      <td>PO005</td>\n",
       "      <td>2018-07-01</td>\n",
       "      <td>Rupdasi market</td>\n",
       "      <td>Spices&amp;Herbs</td>\n",
       "      <td>Red pepper</td>\n",
       "      <td>GR0042</td>\n",
       "      <td>74.2</td>\n",
       "      <td>74.2</td>\n",
       "      <td>74.2</td>\n",
       "      <td>Jonathan Howard</td>\n",
       "      <td>Thomas Patrick</td>\n",
       "      <td>90.8</td>\n",
       "      <td>94.3</td>\n",
       "      <td>YES</td>\n",
       "      <td>673736.0</td>\n",
       "      <td>699706.0</td>\n",
       "      <td>1</td>\n",
       "    </tr>\n",
       "    <tr>\n",
       "      <th>5</th>\n",
       "      <td>545495154</td>\n",
       "      <td>PO006</td>\n",
       "      <td>2018-07-01</td>\n",
       "      <td>Green Tokri</td>\n",
       "      <td>Spices&amp;Herbs</td>\n",
       "      <td>Mint</td>\n",
       "      <td>GR0038</td>\n",
       "      <td>79.4</td>\n",
       "      <td>79.4</td>\n",
       "      <td>79.4</td>\n",
       "      <td>Jerry Johnson</td>\n",
       "      <td>Bryan Maxwell</td>\n",
       "      <td>54.4</td>\n",
       "      <td>56.6</td>\n",
       "      <td>YES</td>\n",
       "      <td>431936.0</td>\n",
       "      <td>449404.0</td>\n",
       "      <td>1</td>\n",
       "    </tr>\n",
       "    <tr>\n",
       "      <th>6</th>\n",
       "      <td>545495155</td>\n",
       "      <td>PO007</td>\n",
       "      <td>2018-07-01</td>\n",
       "      <td>Abu variety stores</td>\n",
       "      <td>Dairy</td>\n",
       "      <td>Provolone</td>\n",
       "      <td>GR0051</td>\n",
       "      <td>69.6</td>\n",
       "      <td>66.6</td>\n",
       "      <td>66.6</td>\n",
       "      <td>Jeffrey Larson</td>\n",
       "      <td>Samantha Bowen</td>\n",
       "      <td>94.8</td>\n",
       "      <td>96.6</td>\n",
       "      <td>YES</td>\n",
       "      <td>631368.0</td>\n",
       "      <td>643356.0</td>\n",
       "      <td>1</td>\n",
       "    </tr>\n",
       "    <tr>\n",
       "      <th>7</th>\n",
       "      <td>545495156</td>\n",
       "      <td>PO008</td>\n",
       "      <td>2018-07-01</td>\n",
       "      <td>Newtown home delivery</td>\n",
       "      <td>Fruits</td>\n",
       "      <td>Oranges</td>\n",
       "      <td>GR0012</td>\n",
       "      <td>69.7</td>\n",
       "      <td>65.4</td>\n",
       "      <td>65.4</td>\n",
       "      <td>Nicole Watkins</td>\n",
       "      <td>Mrs. Sharon Villa</td>\n",
       "      <td>93.3</td>\n",
       "      <td>96.7</td>\n",
       "      <td>YES</td>\n",
       "      <td>610182.0</td>\n",
       "      <td>632418.0</td>\n",
       "      <td>0</td>\n",
       "    </tr>\n",
       "    <tr>\n",
       "      <th>8</th>\n",
       "      <td>545495157</td>\n",
       "      <td>PO009</td>\n",
       "      <td>2018-07-01</td>\n",
       "      <td>Rupdasi market</td>\n",
       "      <td>Vegetables</td>\n",
       "      <td>Broccoli</td>\n",
       "      <td>GR0017</td>\n",
       "      <td>75.0</td>\n",
       "      <td>75.0</td>\n",
       "      <td>75.0</td>\n",
       "      <td>William Brown</td>\n",
       "      <td>Teresa Francis</td>\n",
       "      <td>96.6</td>\n",
       "      <td>98.1</td>\n",
       "      <td>YES</td>\n",
       "      <td>724500.0</td>\n",
       "      <td>735750.0</td>\n",
       "      <td>1</td>\n",
       "    </tr>\n",
       "    <tr>\n",
       "      <th>9</th>\n",
       "      <td>545495158</td>\n",
       "      <td>PO010</td>\n",
       "      <td>2018-07-01</td>\n",
       "      <td>Once more</td>\n",
       "      <td>PersonalCare</td>\n",
       "      <td>Moisturizing lotion</td>\n",
       "      <td>GR0075</td>\n",
       "      <td>64.9</td>\n",
       "      <td>64.9</td>\n",
       "      <td>64.9</td>\n",
       "      <td>Ernest Sanchez</td>\n",
       "      <td>Bonnie Castro</td>\n",
       "      <td>94.7</td>\n",
       "      <td>94.7</td>\n",
       "      <td>YES</td>\n",
       "      <td>614603.0</td>\n",
       "      <td>614603.0</td>\n",
       "      <td>0</td>\n",
       "    </tr>\n",
       "  </tbody>\n",
       "</table>\n",
       "</div>"
      ],
      "text/plain": [
       "   InvoiceID  PO_Id Purchase_date            Vendor_name      Category  \\\n",
       "0  545495149  PO001    2018-07-01           Garden fresh  Spices&Herbs   \n",
       "1  545495150  PO002    2018-07-01    puja vegetable shop        Baking   \n",
       "2  545495151  PO003    2018-07-01             Freshbazar  PersonalCare   \n",
       "3  545495152  PO004    2018-07-01         Rupdasi market  Spices&Herbs   \n",
       "4  545495153  PO005    2018-07-01         Rupdasi market  Spices&Herbs   \n",
       "5  545495154  PO006    2018-07-01            Green Tokri  Spices&Herbs   \n",
       "6  545495155  PO007    2018-07-01     Abu variety stores         Dairy   \n",
       "7  545495156  PO008    2018-07-01  Newtown home delivery        Fruits   \n",
       "8  545495157  PO009    2018-07-01         Rupdasi market    Vegetables   \n",
       "9  545495158  PO010    2018-07-01              Once more  PersonalCare   \n",
       "\n",
       "          Name_Grocery Item_Number  Quan_send_by_vendor  \\\n",
       "0             Cilantro      GR0034                 68.5   \n",
       "1        Vegetable Oil      GR0065                 77.4   \n",
       "2            Cosmetics      GR0070                 75.4   \n",
       "3             Cilantro      GR0034                 66.6   \n",
       "4           Red pepper      GR0042                 74.2   \n",
       "5                 Mint      GR0038                 79.4   \n",
       "6            Provolone      GR0051                 69.6   \n",
       "7              Oranges      GR0012                 69.7   \n",
       "8             Broccoli      GR0017                 75.0   \n",
       "9  Moisturizing lotion      GR0075                 64.9   \n",
       "\n",
       "   Quan_rec_by_procurement  Quan_send_by_procurement Approval_oficer_name  \\\n",
       "0                     68.5                      68.5          Frank Green   \n",
       "1                     76.5                      76.5      Phillip Johnson   \n",
       "2                     75.4                      75.4       Robert Hammond   \n",
       "3                     66.6                      66.6     Hannah Hernandez   \n",
       "4                     74.2                      74.2      Jonathan Howard   \n",
       "5                     79.4                      79.4        Jerry Johnson   \n",
       "6                     66.6                      66.6       Jeffrey Larson   \n",
       "7                     65.4                      65.4       Nicole Watkins   \n",
       "8                     75.0                      75.0        William Brown   \n",
       "9                     64.9                      64.9       Ernest Sanchez   \n",
       "\n",
       "  Requesting_officer_name  Unit_Purchase_Price  Unit_Selling_price  \\\n",
       "0            Tyler Norris                 79.2                83.6   \n",
       "1          Thomas Patrick                 86.7                86.9   \n",
       "2             Jose Holmes                 51.7                52.7   \n",
       "3      Catherine Martinez                 61.9                62.4   \n",
       "4          Thomas Patrick                 90.8                94.3   \n",
       "5           Bryan Maxwell                 54.4                56.6   \n",
       "6          Samantha Bowen                 94.8                96.6   \n",
       "7       Mrs. Sharon Villa                 93.3                96.7   \n",
       "8          Teresa Francis                 96.6                98.1   \n",
       "9           Bonnie Castro                 94.7                94.7   \n",
       "\n",
       "  Eligibility_Criteria  Total_purchase_price  Total_Selling_price  Fraud  \n",
       "0                  YES              542520.0             572660.0      1  \n",
       "1                  YES              663255.0             664785.0      1  \n",
       "2                  YES              389818.0             397358.0      0  \n",
       "3                  YES              412254.0             415584.0      0  \n",
       "4                  YES              673736.0             699706.0      1  \n",
       "5                  YES              431936.0             449404.0      1  \n",
       "6                  YES              631368.0             643356.0      1  \n",
       "7                  YES              610182.0             632418.0      0  \n",
       "8                  YES              724500.0             735750.0      1  \n",
       "9                  YES              614603.0             614603.0      0  "
      ]
     },
     "execution_count": 8,
     "metadata": {},
     "output_type": "execute_result"
    }
   ],
   "source": [
    "df = pd.read_sql(q,data_base)\n",
    "df.head(10)"
   ]
  },
  {
   "cell_type": "markdown",
   "id": "5925ded4",
   "metadata": {},
   "source": [
    "## AUTOMATED EDA BY RAW DATA"
   ]
  },
  {
   "cell_type": "code",
   "execution_count": null,
   "id": "b5299546",
   "metadata": {},
   "outputs": [],
   "source": [
    "#import dtale\n",
    "#d= dtale.show(df)\n",
    "#d.open_browser()"
   ]
  },
  {
   "cell_type": "code",
   "execution_count": null,
   "id": "170384cd",
   "metadata": {},
   "outputs": [],
   "source": [
    "#import sweetviz\n",
    "#report= sweetviz.analyze(df)\n",
    "#report.show_html('FinalReport.html')"
   ]
  },
  {
   "cell_type": "code",
   "execution_count": null,
   "id": "4ac92675",
   "metadata": {},
   "outputs": [],
   "source": [
    "#import pandas_profiling\n",
    "#pandas_profiling.ProfileReport(df)"
   ]
  },
  {
   "cell_type": "code",
   "execution_count": 10,
   "id": "fa8de0dd",
   "metadata": {},
   "outputs": [
    {
     "name": "stdout",
     "output_type": "stream",
     "text": [
      "<class 'pandas.core.frame.DataFrame'>\n",
      "RangeIndex: 30000 entries, 0 to 29999\n",
      "Data columns (total 18 columns):\n",
      " #   Column                    Non-Null Count  Dtype  \n",
      "---  ------                    --------------  -----  \n",
      " 0   InvoiceID                 30000 non-null  int64  \n",
      " 1   PO_Id                     30000 non-null  object \n",
      " 2   Purchase_date             30000 non-null  object \n",
      " 3   Vendor_name               30000 non-null  object \n",
      " 4   Category                  30000 non-null  object \n",
      " 5   Name_Grocery              30000 non-null  object \n",
      " 6   Item_Number               30000 non-null  object \n",
      " 7   Quan_send_by_vendor       29989 non-null  float64\n",
      " 8   Quan_rec_by_procurement   29990 non-null  float64\n",
      " 9   Quan_send_by_procurement  29987 non-null  float64\n",
      " 10  Approval_oficer_name      30000 non-null  object \n",
      " 11  Requesting_officer_name   30000 non-null  object \n",
      " 12  Unit_Purchase_Price       29989 non-null  float64\n",
      " 13  Unit_Selling_price        30000 non-null  float64\n",
      " 14  Eligibility_Criteria      30000 non-null  object \n",
      " 15  Total_purchase_price      29979 non-null  float64\n",
      " 16  Total_Selling_price       29987 non-null  float64\n",
      " 17  Fraud                     30000 non-null  int64  \n",
      "dtypes: float64(7), int64(2), object(9)\n",
      "memory usage: 4.1+ MB\n"
     ]
    }
   ],
   "source": [
    "df.info()"
   ]
  },
  {
   "cell_type": "code",
   "execution_count": 11,
   "id": "4d577953",
   "metadata": {},
   "outputs": [
    {
     "data": {
      "text/html": [
       "<div>\n",
       "<style scoped>\n",
       "    .dataframe tbody tr th:only-of-type {\n",
       "        vertical-align: middle;\n",
       "    }\n",
       "\n",
       "    .dataframe tbody tr th {\n",
       "        vertical-align: top;\n",
       "    }\n",
       "\n",
       "    .dataframe thead th {\n",
       "        text-align: right;\n",
       "    }\n",
       "</style>\n",
       "<table border=\"1\" class=\"dataframe\">\n",
       "  <thead>\n",
       "    <tr style=\"text-align: right;\">\n",
       "      <th></th>\n",
       "      <th>InvoiceID</th>\n",
       "      <th>Quan_send_by_vendor</th>\n",
       "      <th>Quan_rec_by_procurement</th>\n",
       "      <th>Quan_send_by_procurement</th>\n",
       "      <th>Unit_Purchase_Price</th>\n",
       "      <th>Unit_Selling_price</th>\n",
       "      <th>Total_purchase_price</th>\n",
       "      <th>Total_Selling_price</th>\n",
       "      <th>Fraud</th>\n",
       "    </tr>\n",
       "  </thead>\n",
       "  <tbody>\n",
       "    <tr>\n",
       "      <th>count</th>\n",
       "      <td>3.000000e+04</td>\n",
       "      <td>29989.000000</td>\n",
       "      <td>29990.000000</td>\n",
       "      <td>29987.000000</td>\n",
       "      <td>29989.000000</td>\n",
       "      <td>30000.000000</td>\n",
       "      <td>29979.000000</td>\n",
       "      <td>29987.000000</td>\n",
       "      <td>30000.000000</td>\n",
       "    </tr>\n",
       "    <tr>\n",
       "      <th>mean</th>\n",
       "      <td>5.455101e+08</td>\n",
       "      <td>64.997929</td>\n",
       "      <td>63.495472</td>\n",
       "      <td>62.758939</td>\n",
       "      <td>74.987049</td>\n",
       "      <td>76.976883</td>\n",
       "      <td>476104.162580</td>\n",
       "      <td>483032.017674</td>\n",
       "      <td>0.496033</td>\n",
       "    </tr>\n",
       "    <tr>\n",
       "      <th>std</th>\n",
       "      <td>8.660398e+03</td>\n",
       "      <td>8.700344</td>\n",
       "      <td>8.859800</td>\n",
       "      <td>9.042252</td>\n",
       "      <td>14.432649</td>\n",
       "      <td>14.529860</td>\n",
       "      <td>113834.703987</td>\n",
       "      <td>115321.008527</td>\n",
       "      <td>0.499993</td>\n",
       "    </tr>\n",
       "    <tr>\n",
       "      <th>min</th>\n",
       "      <td>5.454951e+08</td>\n",
       "      <td>50.000000</td>\n",
       "      <td>45.100000</td>\n",
       "      <td>40.700000</td>\n",
       "      <td>50.000000</td>\n",
       "      <td>50.000000</td>\n",
       "      <td>230785.000000</td>\n",
       "      <td>217500.000000</td>\n",
       "      <td>0.000000</td>\n",
       "    </tr>\n",
       "    <tr>\n",
       "      <th>25%</th>\n",
       "      <td>5.455026e+08</td>\n",
       "      <td>57.400000</td>\n",
       "      <td>55.900000</td>\n",
       "      <td>55.200000</td>\n",
       "      <td>62.400000</td>\n",
       "      <td>64.400000</td>\n",
       "      <td>388229.000000</td>\n",
       "      <td>394603.000000</td>\n",
       "      <td>0.000000</td>\n",
       "    </tr>\n",
       "    <tr>\n",
       "      <th>50%</th>\n",
       "      <td>5.455101e+08</td>\n",
       "      <td>65.000000</td>\n",
       "      <td>63.500000</td>\n",
       "      <td>62.800000</td>\n",
       "      <td>75.100000</td>\n",
       "      <td>77.000000</td>\n",
       "      <td>466389.000000</td>\n",
       "      <td>473575.000000</td>\n",
       "      <td>0.000000</td>\n",
       "    </tr>\n",
       "    <tr>\n",
       "      <th>75%</th>\n",
       "      <td>5.455176e+08</td>\n",
       "      <td>72.600000</td>\n",
       "      <td>71.000000</td>\n",
       "      <td>70.300000</td>\n",
       "      <td>87.500000</td>\n",
       "      <td>89.400000</td>\n",
       "      <td>554400.000000</td>\n",
       "      <td>562401.000000</td>\n",
       "      <td>1.000000</td>\n",
       "    </tr>\n",
       "    <tr>\n",
       "      <th>max</th>\n",
       "      <td>5.455251e+08</td>\n",
       "      <td>80.000000</td>\n",
       "      <td>80.000000</td>\n",
       "      <td>80.000000</td>\n",
       "      <td>100.000000</td>\n",
       "      <td>104.800000</td>\n",
       "      <td>795406.000000</td>\n",
       "      <td>819546.000000</td>\n",
       "      <td>1.000000</td>\n",
       "    </tr>\n",
       "  </tbody>\n",
       "</table>\n",
       "</div>"
      ],
      "text/plain": [
       "          InvoiceID  Quan_send_by_vendor  Quan_rec_by_procurement  \\\n",
       "count  3.000000e+04         29989.000000             29990.000000   \n",
       "mean   5.455101e+08            64.997929                63.495472   \n",
       "std    8.660398e+03             8.700344                 8.859800   \n",
       "min    5.454951e+08            50.000000                45.100000   \n",
       "25%    5.455026e+08            57.400000                55.900000   \n",
       "50%    5.455101e+08            65.000000                63.500000   \n",
       "75%    5.455176e+08            72.600000                71.000000   \n",
       "max    5.455251e+08            80.000000                80.000000   \n",
       "\n",
       "       Quan_send_by_procurement  Unit_Purchase_Price  Unit_Selling_price  \\\n",
       "count              29987.000000         29989.000000        30000.000000   \n",
       "mean                  62.758939            74.987049           76.976883   \n",
       "std                    9.042252            14.432649           14.529860   \n",
       "min                   40.700000            50.000000           50.000000   \n",
       "25%                   55.200000            62.400000           64.400000   \n",
       "50%                   62.800000            75.100000           77.000000   \n",
       "75%                   70.300000            87.500000           89.400000   \n",
       "max                   80.000000           100.000000          104.800000   \n",
       "\n",
       "       Total_purchase_price  Total_Selling_price         Fraud  \n",
       "count          29979.000000         29987.000000  30000.000000  \n",
       "mean          476104.162580        483032.017674      0.496033  \n",
       "std           113834.703987        115321.008527      0.499993  \n",
       "min           230785.000000        217500.000000      0.000000  \n",
       "25%           388229.000000        394603.000000      0.000000  \n",
       "50%           466389.000000        473575.000000      0.000000  \n",
       "75%           554400.000000        562401.000000      1.000000  \n",
       "max           795406.000000        819546.000000      1.000000  "
      ]
     },
     "execution_count": 11,
     "metadata": {},
     "output_type": "execute_result"
    }
   ],
   "source": [
    "df.describe()"
   ]
  },
  {
   "cell_type": "markdown",
   "id": "833f0313",
   "metadata": {},
   "source": [
    "##### Check for count of NA's in each column"
   ]
  },
  {
   "cell_type": "code",
   "execution_count": 12,
   "id": "1ea74767",
   "metadata": {},
   "outputs": [
    {
     "data": {
      "text/plain": [
       "InvoiceID                    0\n",
       "PO_Id                        0\n",
       "Purchase_date                0\n",
       "Vendor_name                  0\n",
       "Category                     0\n",
       "Name_Grocery                 0\n",
       "Item_Number                  0\n",
       "Quan_send_by_vendor         11\n",
       "Quan_rec_by_procurement     10\n",
       "Quan_send_by_procurement    13\n",
       "Approval_oficer_name         0\n",
       "Requesting_officer_name      0\n",
       "Unit_Purchase_Price         11\n",
       "Unit_Selling_price           0\n",
       "Eligibility_Criteria         0\n",
       "Total_purchase_price        21\n",
       "Total_Selling_price         13\n",
       "Fraud                        0\n",
       "dtype: int64"
      ]
     },
     "execution_count": 12,
     "metadata": {},
     "output_type": "execute_result"
    }
   ],
   "source": [
    "df.isna().sum()\n",
    "#There are na values in the data"
   ]
  },
  {
   "cell_type": "markdown",
   "id": "09aab7cc",
   "metadata": {},
   "source": [
    "## Mean Imputation"
   ]
  },
  {
   "cell_type": "code",
   "execution_count": 13,
   "id": "ec008383",
   "metadata": {},
   "outputs": [],
   "source": [
    "mean_imputer = SimpleImputer(missing_values=np.nan, strategy='mean')"
   ]
  },
  {
   "cell_type": "code",
   "execution_count": 14,
   "id": "94382e2e",
   "metadata": {},
   "outputs": [],
   "source": [
    "df[\"Quan_send_by_vendor\"] = pd.DataFrame(mean_imputer.fit_transform(df[[\"Quan_send_by_vendor\"]]))\n",
    "df[\"Quan_rec_by_procurement\"] = pd.DataFrame(mean_imputer.fit_transform(df[[\"Quan_rec_by_procurement\"]]))\n",
    "df[\"Quan_send_by_procurement\"] = pd.DataFrame(mean_imputer.fit_transform(df[[\"Quan_send_by_procurement\"]]))\n",
    "df[\"Unit_Purchase_Price\"] = pd.DataFrame(mean_imputer.fit_transform(df[[\"Unit_Purchase_Price\"]]))\n",
    "df[\"Total_purchase_price\"] = pd.DataFrame(mean_imputer.fit_transform(df[[\"Total_purchase_price\"]]))\n",
    "df[\"Total_Selling_price\"] = pd.DataFrame(mean_imputer.fit_transform(df[[\"Total_Selling_price\"]]))\n"
   ]
  },
  {
   "cell_type": "markdown",
   "id": "5836c265",
   "metadata": {},
   "source": [
    "#### Identify duplicates records in the data "
   ]
  },
  {
   "cell_type": "code",
   "execution_count": 15,
   "id": "56f42139",
   "metadata": {},
   "outputs": [
    {
     "data": {
      "text/plain": [
       "0"
      ]
     },
     "execution_count": 15,
     "metadata": {},
     "output_type": "execute_result"
    }
   ],
   "source": [
    "duplicate = df.duplicated()\n",
    "duplicate\n",
    "sum(duplicate)\n",
    "#No duplicates in the data"
   ]
  },
  {
   "cell_type": "markdown",
   "id": "6900ef24",
   "metadata": {},
   "source": [
    "#### Outlier Treatment \n",
    "BOXPLOT in one frame for all the quantative columns"
   ]
  },
  {
   "cell_type": "code",
   "execution_count": 16,
   "id": "ae5c1a94",
   "metadata": {},
   "outputs": [
    {
     "data": {
      "image/png": "[encoded data removed]",
      "text/plain": [
       "<Figure size 432x288 with 1 Axes>"
      ]
     },
     "metadata": {
      "needs_background": "light"
     },
     "output_type": "display_data"
    },
    {
     "data": {
      "image/png": "[encoded data removed]",
      "text/plain": [
       "<Figure size 432x288 with 1 Axes>"
      ]
     },
     "metadata": {
      "needs_background": "light"
     },
     "output_type": "display_data"
    },
    {
     "data": {
      "image/png": "[encoded data removed]",
      "text/plain": [
       "<Figure size 432x288 with 1 Axes>"
      ]
     },
     "metadata": {
      "needs_background": "light"
     },
     "output_type": "display_data"
    },
    {
     "data": {
      "image/png": "[encoded data removed]",
      "text/plain": [
       "<Figure size 432x288 with 1 Axes>"
      ]
     },
     "metadata": {
      "needs_background": "light"
     },
     "output_type": "display_data"
    },
    {
     "data": {
      "image/png": "[encoded data removed]",
      "text/plain": [
       "<Figure size 432x288 with 1 Axes>"
      ]
     },
     "metadata": {
      "needs_background": "light"
     },
     "output_type": "display_data"
    },
    {
     "data": {
      "image/png": "[encoded data removed]",
      "text/plain": [
       "<Figure size 432x288 with 1 Axes>"
      ]
     },
     "metadata": {
      "needs_background": "light"
     },
     "output_type": "display_data"
    },
    {
     "data": {
      "image/png": "[encoded data removed]",
      "text/plain": [
       "<Figure size 432x288 with 1 Axes>"
      ]
     },
     "metadata": {
      "needs_background": "light"
     },
     "output_type": "display_data"
    },
    {
     "data": {
      "image/png": "[encoded data removed]",
      "text/plain": [
       "<Figure size 432x288 with 1 Axes>"
      ]
     },
     "metadata": {
      "needs_background": "light"
     },
     "output_type": "display_data"
    },
    {
     "data": {
      "image/png": "[encoded data removed]",
      "text/plain": [
       "<Figure size 432x288 with 1 Axes>"
      ]
     },
     "metadata": {
      "needs_background": "light"
     },
     "output_type": "display_data"
    }
   ],
   "source": [
    "for i in df:\n",
    "    #print(i)\n",
    "    if df[i].dtypes==np.int64 or df[i].dtypes==np.float64:\n",
    "        plt.figure()\n",
    "        sns.boxplot(df[i])"
   ]
  },
  {
   "cell_type": "markdown",
   "id": "a31814d7",
   "metadata": {},
   "source": [
    "##### SLICING the numeric and categorical columns"
   ]
  },
  {
   "cell_type": "code",
   "execution_count": 17,
   "id": "5b1bc230",
   "metadata": {},
   "outputs": [],
   "source": [
    "b= df.iloc[:,[7,8,9,12,13,15,16,17]]\n",
    "d= df.iloc[:, [0,1,2,3,4,5,6,10,11,14]]"
   ]
  },
  {
   "cell_type": "markdown",
   "id": "3727091c",
   "metadata": {},
   "source": [
    "### Removing outliers\n"
   ]
  },
  {
   "cell_type": "code",
   "execution_count": 18,
   "id": "cbbeafa8",
   "metadata": {},
   "outputs": [],
   "source": [
    "winsor = Winsorizer(capping_method='iqr', # choose  IQR rule boundaries or gaussian for mean and std\n",
    "                          tail='both', # cap left, right or both tails \n",
    "                          fold=1.5,\n",
    "                          variables=['Quan_send_by_vendor' ,'Quan_rec_by_procurement',\n",
    "                           'Quan_send_by_procurement' ,'Unit_Purchase_Price' ,'Unit_Selling_price',\n",
    "                           'Total_purchase_price', 'Total_Selling_price', 'Fraud'])\n"
   ]
  },
  {
   "cell_type": "code",
   "execution_count": 19,
   "id": "38470906",
   "metadata": {},
   "outputs": [],
   "source": [
    "df_t = winsor.fit_transform(df[['Quan_send_by_vendor' ,'Quan_rec_by_procurement',\n",
    "                                'Quan_send_by_procurement' ,'Unit_Purchase_Price' ,'Unit_Selling_price',\n",
    "                                'Total_purchase_price', 'Total_Selling_price', 'Fraud']])\n"
   ]
  },
  {
   "cell_type": "code",
   "execution_count": 20,
   "id": "7a156885",
   "metadata": {},
   "outputs": [
    {
     "data": {
      "text/plain": [
       "<AxesSubplot:>"
      ]
     },
     "execution_count": 20,
     "metadata": {},
     "output_type": "execute_result"
    },
    {
     "data": {
      "image/png": "[encoded data removed]",
      "text/plain": [
       "<Figure size 1080x576 with 1 Axes>"
      ]
     },
     "metadata": {
      "needs_background": "light"
     },
     "output_type": "display_data"
    }
   ],
   "source": [
    "plt.figure(figsize=(15,8))\n",
    "\n",
    "sns.boxplot(data=df_t, orient='h')\n",
    "\n",
    "#Now no outliers are present\n"
   ]
  },
  {
   "cell_type": "markdown",
   "id": "2ff513a2",
   "metadata": {},
   "source": [
    "\n",
    "### Label Encoder"
   ]
  },
  {
   "cell_type": "code",
   "execution_count": 21,
   "id": "16732e87",
   "metadata": {},
   "outputs": [],
   "source": [
    "# Creating instance of labelencoder\n",
    "labelencoder = LabelEncoder()"
   ]
  },
  {
   "cell_type": "code",
   "execution_count": 22,
   "id": "0d415461",
   "metadata": {},
   "outputs": [],
   "source": [
    "d['InvoiceID'] = labelencoder.fit_transform(d['InvoiceID'])\n",
    "d['PO_Id'] = labelencoder.fit_transform(d['PO_Id'])\n",
    "d['Purchase_date'] = labelencoder.fit_transform(d['Purchase_date'])\n",
    "d['Vendor_name'] = labelencoder.fit_transform(d['Vendor_name'])\n",
    "d['Category'] = labelencoder.fit_transform(d['Category'])\n",
    "d['Name_Grocery'] = labelencoder.fit_transform(d['Name_Grocery'])\n",
    "d['Item_Number'] = labelencoder.fit_transform(d['Item_Number'])\n",
    "d['Approval_oficer_name'] = labelencoder.fit_transform(d['Approval_oficer_name'])\n",
    "d['Requesting_officer_name'] = labelencoder.fit_transform(d['Requesting_officer_name'])\n",
    "d['Eligibility_Criteria'] = labelencoder.fit_transform(d['Eligibility_Criteria'])\n"
   ]
  },
  {
   "cell_type": "markdown",
   "id": "b02a8dae",
   "metadata": {},
   "source": [
    "# Concating winsored columns and encoded columns\n"
   ]
  },
  {
   "cell_type": "code",
   "execution_count": 23,
   "id": "012f7bc9",
   "metadata": {},
   "outputs": [
    {
     "name": "stdout",
     "output_type": "stream",
     "text": [
      "<class 'pandas.core.frame.DataFrame'>\n",
      "RangeIndex: 30000 entries, 0 to 29999\n",
      "Data columns (total 18 columns):\n",
      " #   Column                    Non-Null Count  Dtype  \n",
      "---  ------                    --------------  -----  \n",
      " 0   InvoiceID                 30000 non-null  int64  \n",
      " 1   PO_Id                     30000 non-null  int32  \n",
      " 2   Purchase_date             30000 non-null  int32  \n",
      " 3   Vendor_name               30000 non-null  int32  \n",
      " 4   Category                  30000 non-null  int32  \n",
      " 5   Name_Grocery              30000 non-null  int32  \n",
      " 6   Item_Number               30000 non-null  int32  \n",
      " 7   Approval_oficer_name      30000 non-null  int32  \n",
      " 8   Requesting_officer_name   30000 non-null  int32  \n",
      " 9   Eligibility_Criteria      30000 non-null  int32  \n",
      " 10  Quan_send_by_vendor       30000 non-null  float64\n",
      " 11  Quan_rec_by_procurement   30000 non-null  float64\n",
      " 12  Quan_send_by_procurement  30000 non-null  float64\n",
      " 13  Unit_Purchase_Price       30000 non-null  float64\n",
      " 14  Unit_Selling_price        30000 non-null  float64\n",
      " 15  Total_purchase_price      30000 non-null  float64\n",
      " 16  Total_Selling_price       30000 non-null  float64\n",
      " 17  Fraud                     30000 non-null  float64\n",
      "dtypes: float64(8), int32(9), int64(1)\n",
      "memory usage: 3.1 MB\n"
     ]
    }
   ],
   "source": [
    "data= pd.concat([d,df_t], axis=1)\n",
    "data.info()"
   ]
  },
  {
   "cell_type": "markdown",
   "id": "528677fe",
   "metadata": {},
   "source": [
    "## Normalization (for numeric columns)"
   ]
  },
  {
   "cell_type": "code",
   "execution_count": 24,
   "id": "76e01ec5",
   "metadata": {},
   "outputs": [],
   "source": [
    "def norm_func(i): \n",
    "    x = (i-i.min())/(i.max()-i.min())\n",
    "    return(x)\n",
    "\n",
    "df_norm = norm_func(data)\n",
    "c = df_norm.describe()"
   ]
  },
  {
   "cell_type": "markdown",
   "id": "2afdd1ac",
   "metadata": {},
   "source": [
    "### REARRANGING THE DATA and  Data Manupulation\n"
   ]
  },
  {
   "cell_type": "code",
   "execution_count": 25,
   "id": "857790c8",
   "metadata": {},
   "outputs": [
    {
     "name": "stdout",
     "output_type": "stream",
     "text": [
      "<class 'pandas.core.frame.DataFrame'>\n",
      "RangeIndex: 30000 entries, 0 to 29999\n",
      "Data columns (total 18 columns):\n",
      " #   Column                    Non-Null Count  Dtype  \n",
      "---  ------                    --------------  -----  \n",
      " 0   InvoiceID                 30000 non-null  float64\n",
      " 1   PO_Id                     30000 non-null  float64\n",
      " 2   Purchase_date             30000 non-null  float64\n",
      " 3   Vendor_name               30000 non-null  float64\n",
      " 4   Category                  30000 non-null  float64\n",
      " 5   Name_Grocery              30000 non-null  float64\n",
      " 6   Item_Number               30000 non-null  float64\n",
      " 7   Quan_send_by_vendor       30000 non-null  float64\n",
      " 8   Quan_rec_by_procurement   30000 non-null  float64\n",
      " 9   Quan_send_by_procurement  30000 non-null  float64\n",
      " 10  Approval_oficer_name      30000 non-null  float64\n",
      " 11  Requesting_officer_name   30000 non-null  float64\n",
      " 12  Unit_Purchase_Price       30000 non-null  float64\n",
      " 13  Unit_Selling_price        30000 non-null  float64\n",
      " 14  Eligibility_Criteria      30000 non-null  float64\n",
      " 15  Total_purchase_price      30000 non-null  float64\n",
      " 16  Total_Selling_price       30000 non-null  float64\n",
      " 17  Fraud                     30000 non-null  float64\n",
      "dtypes: float64(18)\n",
      "memory usage: 4.1 MB\n"
     ]
    }
   ],
   "source": [
    "final= df_norm.iloc[:,[0,1,2,3,4,5,6,10,11,12,7,8,13,14,9,15,16,17]]\n",
    "final.info()"
   ]
  },
  {
   "cell_type": "markdown",
   "id": "8f936d17",
   "metadata": {},
   "source": [
    "### Checking for balanced or not"
   ]
  },
  {
   "cell_type": "code",
   "execution_count": 26,
   "id": "e30bd1ab",
   "metadata": {},
   "outputs": [
    {
     "data": {
      "text/plain": [
       "<AxesSubplot:xlabel='Fraud'>"
      ]
     },
     "execution_count": 26,
     "metadata": {},
     "output_type": "execute_result"
    },
    {
     "data": {
      "image/png": "[encoded data removed]",
      "text/plain": [
       "<Figure size 432x288 with 1 Axes>"
      ]
     },
     "metadata": {
      "needs_background": "light"
     },
     "output_type": "display_data"
    }
   ],
   "source": [
    "final.pivot_table(index='Fraud', aggfunc='size').plot(kind='bar')"
   ]
  },
  {
   "cell_type": "markdown",
   "id": "059b1346",
   "metadata": {},
   "source": [
    "#### Observation: Data is balanced"
   ]
  },
  {
   "cell_type": "code",
   "execution_count": null,
   "id": "be813c82",
   "metadata": {},
   "outputs": [],
   "source": [
    "######## SAVING THE DATAFRAME IN CSV FORMAT IN DISK ##########\n",
    "#final.to_csv(\"final.csv\", encoding=\"utf-8\")\n",
    "#import os\n",
    "#os.getcwd()"
   ]
  },
  {
   "cell_type": "markdown",
   "id": "a9469e9f",
   "metadata": {},
   "source": [
    "## Data Manupulation"
   ]
  },
  {
   "cell_type": "code",
   "execution_count": 27,
   "id": "a9a6c4bc",
   "metadata": {},
   "outputs": [],
   "source": [
    "final['Fraud'] = (final.Fraud > 0).astype(int)"
   ]
  },
  {
   "cell_type": "markdown",
   "id": "dd417d6b",
   "metadata": {},
   "source": [
    "## Correlation\n"
   ]
  },
  {
   "cell_type": "code",
   "execution_count": 28,
   "id": "2d7c0c35",
   "metadata": {},
   "outputs": [
    {
     "data": {
      "image/png": "[encoded data removed]",
      "text/plain": [
       "<Figure size 1440x720 with 2 Axes>"
      ]
     },
     "metadata": {
      "needs_background": "light"
     },
     "output_type": "display_data"
    }
   ],
   "source": [
    "sns.set_palette(sns.color_palette(\"Set2\", 8))\n",
    "plt.figure(figsize=(20,10))\n",
    "sns.heatmap(final.corr(),annot=True)\n",
    "plt.show()"
   ]
  },
  {
   "cell_type": "markdown",
   "id": "362abb0d",
   "metadata": {},
   "source": [
    "### Checking for multicollenearity"
   ]
  },
  {
   "cell_type": "code",
   "execution_count": 29,
   "id": "21d750ac",
   "metadata": {},
   "outputs": [],
   "source": [
    "from statsmodels.stats.outliers_influence import variance_inflation_factor\n",
    "  \n",
    "# VIF dataframe\n",
    "vif_data = pd.DataFrame()\n",
    "vif_data[\"feature\"] = final.columns"
   ]
  },
  {
   "cell_type": "code",
   "execution_count": 30,
   "id": "c4b80aba",
   "metadata": {},
   "outputs": [
    {
     "name": "stdout",
     "output_type": "stream",
     "text": [
      "                     feature            VIF\n",
      "0                  InvoiceID  405160.399515\n",
      "1                      PO_Id       3.933843\n",
      "2              Purchase_date  404383.844519\n",
      "3                Vendor_name       3.808641\n",
      "4                   Category       4.815319\n",
      "5               Name_Grocery       3.886187\n",
      "6                Item_Number       4.838734\n",
      "7        Quan_send_by_vendor     119.681158\n",
      "8    Quan_rec_by_procurement    1932.228102\n",
      "9   Quan_send_by_procurement    1722.100249\n",
      "10      Approval_oficer_name       3.744496\n",
      "11   Requesting_officer_name       3.829276\n",
      "12       Unit_Purchase_Price    2321.651749\n",
      "13        Unit_Selling_price    1985.076967\n",
      "14      Eligibility_Criteria       3.925741\n",
      "15      Total_purchase_price    4550.320556\n",
      "16       Total_Selling_price    4028.326145\n",
      "17                     Fraud       1.967538\n"
     ]
    }
   ],
   "source": [
    "# calculating VIF for each feature\n",
    "vif_data[\"VIF\"] = [variance_inflation_factor(final.values, i)\n",
    "                          for i in range(len(final.columns))]\n",
    "  \n",
    "print(vif_data)"
   ]
  },
  {
   "cell_type": "markdown",
   "id": "e73fbe59",
   "metadata": {},
   "source": [
    "\n",
    "#### Dropping Total_purchase_price as it shows more VIF value."
   ]
  },
  {
   "cell_type": "code",
   "execution_count": 31,
   "id": "630da072",
   "metadata": {},
   "outputs": [],
   "source": [
    "final = final.drop(['InvoiceID','PO_Id','Purchase_date','Vendor_name','Approval_oficer_name','Requesting_officer_name','Total_purchase_price'], axis= 1)"
   ]
  },
  {
   "cell_type": "code",
   "execution_count": 32,
   "id": "7afb6ff5",
   "metadata": {},
   "outputs": [
    {
     "name": "stdout",
     "output_type": "stream",
     "text": [
      "<class 'pandas.core.frame.DataFrame'>\n",
      "RangeIndex: 30000 entries, 0 to 29999\n",
      "Data columns (total 11 columns):\n",
      " #   Column                    Non-Null Count  Dtype  \n",
      "---  ------                    --------------  -----  \n",
      " 0   Category                  30000 non-null  float64\n",
      " 1   Name_Grocery              30000 non-null  float64\n",
      " 2   Item_Number               30000 non-null  float64\n",
      " 3   Quan_send_by_vendor       30000 non-null  float64\n",
      " 4   Quan_rec_by_procurement   30000 non-null  float64\n",
      " 5   Quan_send_by_procurement  30000 non-null  float64\n",
      " 6   Unit_Purchase_Price       30000 non-null  float64\n",
      " 7   Unit_Selling_price        30000 non-null  float64\n",
      " 8   Eligibility_Criteria      30000 non-null  float64\n",
      " 9   Total_Selling_price       30000 non-null  float64\n",
      " 10  Fraud                     30000 non-null  int32  \n",
      "dtypes: float64(10), int32(1)\n",
      "memory usage: 2.4 MB\n"
     ]
    }
   ],
   "source": [
    "final.info()"
   ]
  },
  {
   "cell_type": "markdown",
   "id": "378e7f23",
   "metadata": {},
   "source": [
    "#### Again Checking VIF VALUE"
   ]
  },
  {
   "cell_type": "code",
   "execution_count": 33,
   "id": "a269829e",
   "metadata": {},
   "outputs": [
    {
     "name": "stdout",
     "output_type": "stream",
     "text": [
      "                     feature         VIF\n",
      "0                   Category    4.560001\n",
      "1               Name_Grocery    3.836532\n",
      "2                Item_Number    4.593551\n",
      "3        Quan_send_by_vendor  118.864509\n",
      "4    Quan_rec_by_procurement  502.839960\n",
      "5   Quan_send_by_procurement  308.682209\n",
      "6        Unit_Purchase_Price  301.576499\n",
      "7         Unit_Selling_price  388.574885\n",
      "8       Eligibility_Criteria    3.848774\n",
      "9        Total_Selling_price  253.309491\n",
      "10                     Fraud    1.954597\n"
     ]
    }
   ],
   "source": [
    "\n",
    "from statsmodels.stats.outliers_influence import variance_inflation_factor\n",
    "  \n",
    "# VIF dataframe\n",
    "vif_data = pd.DataFrame()\n",
    "vif_data[\"feature\"] = final.columns\n",
    "\n",
    "\n",
    "# calculating VIF for each feature\n",
    "vif_data[\"VIF\"] = [variance_inflation_factor(final.values, i)\n",
    "                          for i in range(len(final.columns))]\n",
    "  \n",
    "print(vif_data)"
   ]
  },
  {
   "cell_type": "markdown",
   "id": "8ec5cc86",
   "metadata": {},
   "source": [
    "#### As we can see, Quan_send_by_vendor, Quan_rec_by_procurement,Quan_send_by_procurement, Unit_Purchase_Price, Unit_Selling_price and Total_Selling_price have very high values of VIF, indicating that these variables are highly correlated. Hence, considering these features together leads to a model with high multicollinearity. "
   ]
  },
  {
   "cell_type": "markdown",
   "id": "ea48b6f0",
   "metadata": {},
   "source": [
    "## Spliting data into train and test "
   ]
  },
  {
   "cell_type": "code",
   "execution_count": 34,
   "id": "4ea22dc0",
   "metadata": {},
   "outputs": [],
   "source": [
    "X= final.iloc[:,0:10]\n",
    "y= final.iloc[:, 10]"
   ]
  },
  {
   "cell_type": "code",
   "execution_count": 35,
   "id": "ab5ba4f8",
   "metadata": {},
   "outputs": [
    {
     "data": {
      "text/plain": [
       "((24000, 10), (6000, 10))"
      ]
     },
     "execution_count": 35,
     "metadata": {},
     "output_type": "execute_result"
    }
   ],
   "source": [
    "X_train, X_test, y_train, y_test = train_test_split(X, y, test_size=0.20, random_state=0,stratify=y)\n",
    "X_train.shape, X_test.shape"
   ]
  },
  {
   "cell_type": "code",
   "execution_count": 36,
   "id": "19d2b00f",
   "metadata": {},
   "outputs": [],
   "source": [
    "def make_confusion_matrix(y_actual,y_predict,title):\n",
    "    '''Plot confusion matrix'''\n",
    "    fig, ax = plt.subplots(1, 1)\n",
    "    \n",
    "    cm = confusion_matrix(y_actual, y_predict, labels=[0,1])\n",
    "    disp = ConfusionMatrixDisplay(confusion_matrix=cm)\n",
    "    disp.plot(cmap='Blues',colorbar=True,ax=ax)\n",
    "    \n",
    "    ax.set_title(title)\n",
    "    plt.tick_params(axis=u'both', which=u'both',length=0)\n",
    "    plt.grid(b=None,axis='both',which='both',visible=False)\n",
    "    plt.show()"
   ]
  },
  {
   "cell_type": "code",
   "execution_count": 37,
   "id": "95ee93ee",
   "metadata": {},
   "outputs": [],
   "source": [
    "def get_metrics_score(model,X_train_df,X_test_df,y_train_pass,y_test_pass,flag=True):\n",
    "    '''\n",
    "    Function to calculate different metric scores of the model - Accuracy, Recall, Precision, and F1 score\n",
    "    model: classifier to predict values of X\n",
    "    train, test: Independent features\n",
    "    train_y,test_y: Dependent variable\n",
    "    threshold: thresold for classifiying the observation as 1\n",
    "    flag: If the flag is set to True then only the print statements showing different will be displayed. The default value is set to True.\n",
    "    roc: If the roc is set to True then only roc score will be displayed. The default value is set to False.\n",
    "    '''\n",
    "    # defining an empty list to store train and test results\n",
    "    score_list=[] \n",
    "    pred_train = model.predict(X_train_df)\n",
    "    pred_test = model.predict(X_test_df)\n",
    "    pred_train = np.round(pred_train)\n",
    "    pred_test = np.round(pred_test)\n",
    "    train_acc = accuracy_score(y_train_pass,pred_train)\n",
    "    test_acc = accuracy_score(y_test_pass,pred_test)\n",
    "    train_recall = recall_score(y_train_pass,pred_train)\n",
    "    test_recall = recall_score(y_test_pass,pred_test)\n",
    "    train_precision = precision_score(y_train_pass,pred_train)\n",
    "    test_precision = precision_score(y_test_pass,pred_test)\n",
    "    train_f1 = f1_score(y_train_pass,pred_train)\n",
    "    test_f1 = f1_score(y_test_pass,pred_test)\n",
    "    score_list.extend((train_acc,test_acc,train_recall,test_recall,train_precision,test_precision,train_f1,test_f1))\n",
    "    if flag == True: \n",
    "          metric_names = ['Train_Accuracy', 'Test_Accuracy', 'Train_Recall', 'Test_Recall','Train_Precision',\n",
    "                          'Test_Precision', 'Train_F1-Score', 'Test_F1-Score']\n",
    "          cols = ['Metric', 'Score']\n",
    "          records = [(name, score) for name, score in zip(metric_names, score_list)]\n",
    "          display(pd.DataFrame.from_records(records, columns=cols, index='Metric').T)\n",
    "          make_confusion_matrix(y_train_pass,pred_train,\"Confusion Matrix for Train\")     \n",
    "          make_confusion_matrix(y_test_pass,pred_test,\"Confusion Matrix for Test\") \n",
    "    return score_list # returning the list with train and test scores\n"
   ]
  },
  {
   "cell_type": "markdown",
   "id": "19223cd6",
   "metadata": {},
   "source": [
    "#### defining empty lists to add train and test results "
   ]
  },
  {
   "cell_type": "code",
   "execution_count": 38,
   "id": "10dafa65",
   "metadata": {},
   "outputs": [],
   "source": [
    "acc_train = []\n",
    "acc_test = []\n",
    "recall_train = []\n",
    "recall_test = []\n",
    "precision_train = []\n",
    "precision_test = []\n",
    "f1_train = []\n",
    "f1_test = []\n",
    "def add_score_model(score):\n",
    "     '''add score of modelto list'''\n",
    "     acc_train.append(score[0])\n",
    "     acc_test.append(score[1])\n",
    "     recall_train.append(score[2])\n",
    "     recall_test.append(score[3])\n",
    "     precision_train.append(score[4])\n",
    "     precision_test.append(score[5])\n",
    "     f1_train.append(score[6])\n",
    "     f1_test.append(score[7])"
   ]
  },
  {
   "cell_type": "markdown",
   "id": "eec16e93",
   "metadata": {},
   "source": [
    "# Model building"
   ]
  },
  {
   "cell_type": "markdown",
   "id": "21a99b5a",
   "metadata": {},
   "source": [
    "## Logistic Regression \n"
   ]
  },
  {
   "cell_type": "code",
   "execution_count": 39,
   "id": "ad635a66",
   "metadata": {},
   "outputs": [],
   "source": [
    "# instantiate the model\n",
    "logreg = LogisticRegression()"
   ]
  },
  {
   "cell_type": "code",
   "execution_count": 40,
   "id": "aaec8410",
   "metadata": {},
   "outputs": [
    {
     "data": {
      "text/plain": [
       "LogisticRegression()"
      ]
     },
     "execution_count": 40,
     "metadata": {},
     "output_type": "execute_result"
    }
   ],
   "source": [
    "# fit the model\n",
    "logreg.fit(X_train, y_train)    "
   ]
  },
  {
   "cell_type": "markdown",
   "id": "b30c32ec",
   "metadata": {},
   "source": [
    "#### Cross Validation"
   ]
  },
  {
   "cell_type": "code",
   "execution_count": 41,
   "id": "8d01afec",
   "metadata": {},
   "outputs": [
    {
     "name": "stdout",
     "output_type": "stream",
     "text": [
      "Cross Validation Scores:  [0.50316667 0.4935     0.4955     0.49766667 0.4995    ]\n"
     ]
    }
   ],
   "source": [
    "k_folds = KFold(n_splits = 5)\n",
    "\n",
    "scores = cross_val_score(logreg, X, y, cv = k_folds)\n",
    "\n",
    "print(\"Cross Validation Scores: \", scores)"
   ]
  },
  {
   "cell_type": "code",
   "execution_count": 42,
   "id": "b6b6ce95",
   "metadata": {},
   "outputs": [
    {
     "name": "stdout",
     "output_type": "stream",
     "text": [
      "Mean Absolute Error -0.497867\n"
     ]
    }
   ],
   "source": [
    "print('Mean Absolute Error %2f' %(-1 * scores.mean()))"
   ]
  },
  {
   "cell_type": "code",
   "execution_count": 43,
   "id": "dd298004",
   "metadata": {},
   "outputs": [
    {
     "data": {
      "text/html": [
       "<div>\n",
       "<style scoped>\n",
       "    .dataframe tbody tr th:only-of-type {\n",
       "        vertical-align: middle;\n",
       "    }\n",
       "\n",
       "    .dataframe tbody tr th {\n",
       "        vertical-align: top;\n",
       "    }\n",
       "\n",
       "    .dataframe thead th {\n",
       "        text-align: right;\n",
       "    }\n",
       "</style>\n",
       "<table border=\"1\" class=\"dataframe\">\n",
       "  <thead>\n",
       "    <tr style=\"text-align: right;\">\n",
       "      <th>Metric</th>\n",
       "      <th>Train_Accuracy</th>\n",
       "      <th>Test_Accuracy</th>\n",
       "      <th>Train_Recall</th>\n",
       "      <th>Test_Recall</th>\n",
       "      <th>Train_Precision</th>\n",
       "      <th>Test_Precision</th>\n",
       "      <th>Train_F1-Score</th>\n",
       "      <th>Test_F1-Score</th>\n",
       "    </tr>\n",
       "  </thead>\n",
       "  <tbody>\n",
       "    <tr>\n",
       "      <th>Score</th>\n",
       "      <td>0.503042</td>\n",
       "      <td>0.494833</td>\n",
       "      <td>0.363797</td>\n",
       "      <td>0.34207</td>\n",
       "      <td>0.498733</td>\n",
       "      <td>0.486848</td>\n",
       "      <td>0.42071</td>\n",
       "      <td>0.401816</td>\n",
       "    </tr>\n",
       "  </tbody>\n",
       "</table>\n",
       "</div>"
      ],
      "text/plain": [
       "Metric  Train_Accuracy  Test_Accuracy  Train_Recall  Test_Recall  \\\n",
       "Score         0.503042       0.494833      0.363797      0.34207   \n",
       "\n",
       "Metric  Train_Precision  Test_Precision  Train_F1-Score  Test_F1-Score  \n",
       "Score          0.498733        0.486848         0.42071       0.401816  "
      ]
     },
     "metadata": {},
     "output_type": "display_data"
    },
    {
     "data": {
      "image/png": "[encoded data removed]",
      "text/plain": [
       "<Figure size 432x288 with 2 Axes>"
      ]
     },
     "metadata": {
      "needs_background": "light"
     },
     "output_type": "display_data"
    },
    {
     "data": {
      "image/png": "[encoded data removed]",
      "text/plain": [
       "<Figure size 432x288 with 2 Axes>"
      ]
     },
     "metadata": {
      "needs_background": "light"
     },
     "output_type": "display_data"
    }
   ],
   "source": [
    "logreg_score=get_metrics_score(logreg,X_train,X_test,y_train,y_test)\n",
    "\n",
    "add_score_model(logreg_score)   "
   ]
  },
  {
   "cell_type": "markdown",
   "id": "c43c4b90",
   "metadata": {},
   "source": [
    "## Decision tree "
   ]
  },
  {
   "cell_type": "code",
   "execution_count": 44,
   "id": "eec8ed25",
   "metadata": {},
   "outputs": [
    {
     "data": {
      "text/plain": [
       "DecisionTreeClassifier()"
      ]
     },
     "execution_count": 44,
     "metadata": {},
     "output_type": "execute_result"
    }
   ],
   "source": [
    "dtree=DecisionTreeClassifier()\n",
    "dtree.fit(X_train,y_train)"
   ]
  },
  {
   "cell_type": "code",
   "execution_count": 45,
   "id": "bd16a05a",
   "metadata": {},
   "outputs": [
    {
     "data": {
      "text/html": [
       "<div>\n",
       "<style scoped>\n",
       "    .dataframe tbody tr th:only-of-type {\n",
       "        vertical-align: middle;\n",
       "    }\n",
       "\n",
       "    .dataframe tbody tr th {\n",
       "        vertical-align: top;\n",
       "    }\n",
       "\n",
       "    .dataframe thead th {\n",
       "        text-align: right;\n",
       "    }\n",
       "</style>\n",
       "<table border=\"1\" class=\"dataframe\">\n",
       "  <thead>\n",
       "    <tr style=\"text-align: right;\">\n",
       "      <th>Metric</th>\n",
       "      <th>Train_Accuracy</th>\n",
       "      <th>Test_Accuracy</th>\n",
       "      <th>Train_Recall</th>\n",
       "      <th>Test_Recall</th>\n",
       "      <th>Train_Precision</th>\n",
       "      <th>Test_Precision</th>\n",
       "      <th>Train_F1-Score</th>\n",
       "      <th>Test_F1-Score</th>\n",
       "    </tr>\n",
       "  </thead>\n",
       "  <tbody>\n",
       "    <tr>\n",
       "      <th>Score</th>\n",
       "      <td>1.0</td>\n",
       "      <td>0.4945</td>\n",
       "      <td>1.0</td>\n",
       "      <td>0.495632</td>\n",
       "      <td>1.0</td>\n",
       "      <td>0.490522</td>\n",
       "      <td>1.0</td>\n",
       "      <td>0.493064</td>\n",
       "    </tr>\n",
       "  </tbody>\n",
       "</table>\n",
       "</div>"
      ],
      "text/plain": [
       "Metric  Train_Accuracy  Test_Accuracy  Train_Recall  Test_Recall  \\\n",
       "Score              1.0         0.4945           1.0     0.495632   \n",
       "\n",
       "Metric  Train_Precision  Test_Precision  Train_F1-Score  Test_F1-Score  \n",
       "Score               1.0        0.490522             1.0       0.493064  "
      ]
     },
     "metadata": {},
     "output_type": "display_data"
    },
    {
     "data": {
      "image/png": "[encoded data removed]",
      "text/plain": [
       "<Figure size 432x288 with 2 Axes>"
      ]
     },
     "metadata": {
      "needs_background": "light"
     },
     "output_type": "display_data"
    },
    {
     "data": {
      "image/png": "[encoded data removed]",
      "text/plain": [
       "<Figure size 432x288 with 2 Axes>"
      ]
     },
     "metadata": {
      "needs_background": "light"
     },
     "output_type": "display_data"
    }
   ],
   "source": [
    "dtree_score=get_metrics_score(dtree,X_train,X_test,y_train,y_test)\n",
    "add_score_model(dtree_score)"
   ]
  },
  {
   "cell_type": "markdown",
   "id": "5d38bba0",
   "metadata": {},
   "source": [
    "### Observation\n",
    "\n",
    " Decision tree is overfitting the training data as there is lot of disparity between test and train."
   ]
  },
  {
   "cell_type": "markdown",
   "id": "cedf9c3f",
   "metadata": {},
   "source": [
    "### Tuning Decision tree"
   ]
  },
  {
   "cell_type": "code",
   "execution_count": 46,
   "id": "ef60d368",
   "metadata": {},
   "outputs": [],
   "source": [
    "#Choose the type of classifier. \n",
    "dtree_tuned = DecisionTreeClassifier()"
   ]
  },
  {
   "cell_type": "code",
   "execution_count": 47,
   "id": "f3167fb7",
   "metadata": {},
   "outputs": [],
   "source": [
    "# Grid of parameters to choose from\n",
    "parameters = {'max_depth': [1,4,7,15], \n",
    "              'min_samples_leaf': [2,3,5],\n",
    "              'max_leaf_nodes' : [ 5,7,10,15]\n",
    "              }"
   ]
  },
  {
   "cell_type": "code",
   "execution_count": 48,
   "id": "e5a58924",
   "metadata": {},
   "outputs": [],
   "source": [
    "# Type of scoring used to compare parameter combinations\n",
    "scorer = metrics.make_scorer(metrics.recall_score)"
   ]
  },
  {
   "cell_type": "code",
   "execution_count": 49,
   "id": "62e75314",
   "metadata": {},
   "outputs": [],
   "source": [
    "# Run the grid search\n",
    "grid_obj = GridSearchCV(dtree_tuned, parameters, scoring=scorer)\n",
    "grid_obj = grid_obj.fit(X_train, y_train)"
   ]
  },
  {
   "cell_type": "code",
   "execution_count": 50,
   "id": "55e61088",
   "metadata": {},
   "outputs": [],
   "source": [
    "# Set the clf to the best combination of parameters\n",
    "dtree_tuned = grid_obj.best_estimator_"
   ]
  },
  {
   "cell_type": "code",
   "execution_count": 51,
   "id": "a5235e2e",
   "metadata": {},
   "outputs": [
    {
     "data": {
      "text/plain": [
       "DecisionTreeClassifier(max_depth=4, max_leaf_nodes=7, min_samples_leaf=2)"
      ]
     },
     "execution_count": 51,
     "metadata": {},
     "output_type": "execute_result"
    }
   ],
   "source": [
    "# Fit the best algorithm to the data. \n",
    "dtree_tuned.fit(X_train, y_train)"
   ]
  },
  {
   "cell_type": "code",
   "execution_count": 52,
   "id": "485bcb4d",
   "metadata": {},
   "outputs": [
    {
     "data": {
      "text/html": [
       "<div>\n",
       "<style scoped>\n",
       "    .dataframe tbody tr th:only-of-type {\n",
       "        vertical-align: middle;\n",
       "    }\n",
       "\n",
       "    .dataframe tbody tr th {\n",
       "        vertical-align: top;\n",
       "    }\n",
       "\n",
       "    .dataframe thead th {\n",
       "        text-align: right;\n",
       "    }\n",
       "</style>\n",
       "<table border=\"1\" class=\"dataframe\">\n",
       "  <thead>\n",
       "    <tr style=\"text-align: right;\">\n",
       "      <th>Metric</th>\n",
       "      <th>Train_Accuracy</th>\n",
       "      <th>Test_Accuracy</th>\n",
       "      <th>Train_Recall</th>\n",
       "      <th>Test_Recall</th>\n",
       "      <th>Train_Precision</th>\n",
       "      <th>Test_Precision</th>\n",
       "      <th>Train_F1-Score</th>\n",
       "      <th>Test_F1-Score</th>\n",
       "    </tr>\n",
       "  </thead>\n",
       "  <tbody>\n",
       "    <tr>\n",
       "      <th>Score</th>\n",
       "      <td>0.5085</td>\n",
       "      <td>0.506833</td>\n",
       "      <td>0.040319</td>\n",
       "      <td>0.03293</td>\n",
       "      <td>0.564042</td>\n",
       "      <td>0.547486</td>\n",
       "      <td>0.075259</td>\n",
       "      <td>0.062124</td>\n",
       "    </tr>\n",
       "  </tbody>\n",
       "</table>\n",
       "</div>"
      ],
      "text/plain": [
       "Metric  Train_Accuracy  Test_Accuracy  Train_Recall  Test_Recall  \\\n",
       "Score           0.5085       0.506833      0.040319      0.03293   \n",
       "\n",
       "Metric  Train_Precision  Test_Precision  Train_F1-Score  Test_F1-Score  \n",
       "Score          0.564042        0.547486        0.075259       0.062124  "
      ]
     },
     "metadata": {},
     "output_type": "display_data"
    },
    {
     "data": {
      "image/png": "[encoded data removed]",
      "text/plain": [
       "<Figure size 432x288 with 2 Axes>"
      ]
     },
     "metadata": {
      "needs_background": "light"
     },
     "output_type": "display_data"
    },
    {
     "data": {
      "image/png": "[encoded data removed]",
      "text/plain": [
       "<Figure size 432x288 with 2 Axes>"
      ]
     },
     "metadata": {
      "needs_background": "light"
     },
     "output_type": "display_data"
    }
   ],
   "source": [
    "score_tune_dt=get_metrics_score(dtree_tuned,X_train,X_test,y_train,y_test)\n",
    "add_score_model(score_tune_dt) # add score to dataframe"
   ]
  },
  {
   "cell_type": "markdown",
   "id": "6946790f",
   "metadata": {},
   "source": [
    "## Bagging Classifier "
   ]
  },
  {
   "cell_type": "code",
   "execution_count": 53,
   "id": "4e3ae250",
   "metadata": {},
   "outputs": [
    {
     "data": {
      "text/plain": [
       "BaggingClassifier()"
      ]
     },
     "execution_count": 53,
     "metadata": {},
     "output_type": "execute_result"
    }
   ],
   "source": [
    "#Fitting the model\n",
    "bagging_classifier = BaggingClassifier()\n",
    "bagging_classifier.fit(X_train,y_train)"
   ]
  },
  {
   "cell_type": "code",
   "execution_count": 90,
   "id": "abe5be73",
   "metadata": {
    "scrolled": false
   },
   "outputs": [
    {
     "data": {
      "text/html": [
       "<div>\n",
       "<style scoped>\n",
       "    .dataframe tbody tr th:only-of-type {\n",
       "        vertical-align: middle;\n",
       "    }\n",
       "\n",
       "    .dataframe tbody tr th {\n",
       "        vertical-align: top;\n",
       "    }\n",
       "\n",
       "    .dataframe thead th {\n",
       "        text-align: right;\n",
       "    }\n",
       "</style>\n",
       "<table border=\"1\" class=\"dataframe\">\n",
       "  <thead>\n",
       "    <tr style=\"text-align: right;\">\n",
       "      <th>Metric</th>\n",
       "      <th>Train_Accuracy</th>\n",
       "      <th>Test_Accuracy</th>\n",
       "      <th>Train_Recall</th>\n",
       "      <th>Test_Recall</th>\n",
       "      <th>Train_Precision</th>\n",
       "      <th>Test_Precision</th>\n",
       "      <th>Train_F1-Score</th>\n",
       "      <th>Test_F1-Score</th>\n",
       "    </tr>\n",
       "  </thead>\n",
       "  <tbody>\n",
       "    <tr>\n",
       "      <th>Score</th>\n",
       "      <td>0.978417</td>\n",
       "      <td>0.498167</td>\n",
       "      <td>0.962369</td>\n",
       "      <td>0.397513</td>\n",
       "      <td>0.993927</td>\n",
       "      <td>0.492711</td>\n",
       "      <td>0.977893</td>\n",
       "      <td>0.440022</td>\n",
       "    </tr>\n",
       "  </tbody>\n",
       "</table>\n",
       "</div>"
      ],
      "text/plain": [
       "Metric  Train_Accuracy  Test_Accuracy  Train_Recall  Test_Recall  \\\n",
       "Score         0.978417       0.498167      0.962369     0.397513   \n",
       "\n",
       "Metric  Train_Precision  Test_Precision  Train_F1-Score  Test_F1-Score  \n",
       "Score          0.993927        0.492711        0.977893       0.440022  "
      ]
     },
     "metadata": {},
     "output_type": "display_data"
    },
    {
     "data": {
      "image/png": "[encoded data removed]",
      "text/plain": [
       "<Figure size 432x288 with 2 Axes>"
      ]
     },
     "metadata": {
      "needs_background": "light"
     },
     "output_type": "display_data"
    },
    {
     "data": {
      "image/png": "[encoded data removed]",
      "text/plain": [
       "<Figure size 432x288 with 2 Axes>"
      ]
     },
     "metadata": {
      "needs_background": "light"
     },
     "output_type": "display_data"
    }
   ],
   "source": [
    "bagging_score=get_metrics_score(bagging_classifier,X_train,X_test,y_train,y_test)\n",
    "add_score_model(bagging_score)"
   ]
  },
  {
   "cell_type": "markdown",
   "id": "39724008",
   "metadata": {},
   "source": [
    "### Observation\n",
    "\n",
    "Bagging is still overfitting the training data "
   ]
  },
  {
   "cell_type": "markdown",
   "id": "23c87976",
   "metadata": {},
   "source": [
    "### Tuning  Bagging Classifier"
   ]
  },
  {
   "cell_type": "code",
   "execution_count": 55,
   "id": "5cac5d8c",
   "metadata": {},
   "outputs": [],
   "source": [
    "# Choose the type of classifier. \n",
    "\n",
    "bagging_estimator_tuned = BaggingClassifier(DecisionTreeClassifier())"
   ]
  },
  {
   "cell_type": "code",
   "execution_count": 56,
   "id": "e7c03507",
   "metadata": {},
   "outputs": [],
   "source": [
    "# Grid of parameters to choose from\n",
    "parameters = {'max_samples': [0.7,0.8,0.9,1], \n",
    "              'max_features': [0.7,0.8,0.9,1],\n",
    "              'n_estimators' : [10,20,30,40,50],\n",
    "             }"
   ]
  },
  {
   "cell_type": "code",
   "execution_count": 57,
   "id": "e14bf734",
   "metadata": {},
   "outputs": [],
   "source": [
    "# Type of scoring used to compare parameter combinations\n",
    "acc_scorer = metrics.make_scorer(metrics.recall_score)"
   ]
  },
  {
   "cell_type": "code",
   "execution_count": 58,
   "id": "d466289d",
   "metadata": {},
   "outputs": [],
   "source": [
    "# Run the grid search\n",
    "grid_obj = GridSearchCV(bagging_estimator_tuned, parameters, scoring=acc_scorer,cv=5)\n",
    "grid_obj = grid_obj.fit(X_train, y_train)"
   ]
  },
  {
   "cell_type": "code",
   "execution_count": 59,
   "id": "4c01b5eb",
   "metadata": {},
   "outputs": [],
   "source": [
    "# Set the clf to the best combination of parameters\n",
    "bagging_estimator_tuned = grid_obj.best_estimator_"
   ]
  },
  {
   "cell_type": "code",
   "execution_count": 60,
   "id": "ec0569e8",
   "metadata": {},
   "outputs": [
    {
     "data": {
      "text/plain": [
       "BaggingClassifier(base_estimator=DecisionTreeClassifier(), max_features=0.8,\n",
       "                  max_samples=1, n_estimators=30)"
      ]
     },
     "execution_count": 60,
     "metadata": {},
     "output_type": "execute_result"
    }
   ],
   "source": [
    "# Fit the best algorithm to the data.\n",
    "bagging_estimator_tuned.fit(X_train, y_train)"
   ]
  },
  {
   "cell_type": "code",
   "execution_count": 61,
   "id": "a302b101",
   "metadata": {},
   "outputs": [
    {
     "data": {
      "text/html": [
       "<div>\n",
       "<style scoped>\n",
       "    .dataframe tbody tr th:only-of-type {\n",
       "        vertical-align: middle;\n",
       "    }\n",
       "\n",
       "    .dataframe tbody tr th {\n",
       "        vertical-align: top;\n",
       "    }\n",
       "\n",
       "    .dataframe thead th {\n",
       "        text-align: right;\n",
       "    }\n",
       "</style>\n",
       "<table border=\"1\" class=\"dataframe\">\n",
       "  <thead>\n",
       "    <tr style=\"text-align: right;\">\n",
       "      <th>Metric</th>\n",
       "      <th>Train_Accuracy</th>\n",
       "      <th>Test_Accuracy</th>\n",
       "      <th>Train_Recall</th>\n",
       "      <th>Test_Recall</th>\n",
       "      <th>Train_Precision</th>\n",
       "      <th>Test_Precision</th>\n",
       "      <th>Train_F1-Score</th>\n",
       "      <th>Test_F1-Score</th>\n",
       "    </tr>\n",
       "  </thead>\n",
       "  <tbody>\n",
       "    <tr>\n",
       "      <th>Score</th>\n",
       "      <td>0.496042</td>\n",
       "      <td>0.496</td>\n",
       "      <td>1.0</td>\n",
       "      <td>1.0</td>\n",
       "      <td>0.496042</td>\n",
       "      <td>0.496</td>\n",
       "      <td>0.663139</td>\n",
       "      <td>0.663102</td>\n",
       "    </tr>\n",
       "  </tbody>\n",
       "</table>\n",
       "</div>"
      ],
      "text/plain": [
       "Metric  Train_Accuracy  Test_Accuracy  Train_Recall  Test_Recall  \\\n",
       "Score         0.496042          0.496           1.0          1.0   \n",
       "\n",
       "Metric  Train_Precision  Test_Precision  Train_F1-Score  Test_F1-Score  \n",
       "Score          0.496042           0.496        0.663139       0.663102  "
      ]
     },
     "metadata": {},
     "output_type": "display_data"
    },
    {
     "data": {
      "image/png": "[encoded data removed]",
      "text/plain": [
       "<Figure size 432x288 with 2 Axes>"
      ]
     },
     "metadata": {
      "needs_background": "light"
     },
     "output_type": "display_data"
    },
    {
     "data": {
      "image/png": "[encoded data removed]",
      "text/plain": [
       "<Figure size 432x288 with 2 Axes>"
      ]
     },
     "metadata": {
      "needs_background": "light"
     },
     "output_type": "display_data"
    }
   ],
   "source": [
    "bagging_tuned=get_metrics_score(bagging_estimator_tuned,X_train,X_test,y_train,y_test)\n",
    "add_score_model(bagging_tuned)"
   ]
  },
  {
   "cell_type": "markdown",
   "id": "8b24c7cd",
   "metadata": {},
   "source": [
    "## Random Forest "
   ]
  },
  {
   "cell_type": "code",
   "execution_count": 62,
   "id": "cd084e64",
   "metadata": {},
   "outputs": [
    {
     "data": {
      "text/plain": [
       "RandomForestClassifier(random_state=1)"
      ]
     },
     "execution_count": 62,
     "metadata": {},
     "output_type": "execute_result"
    }
   ],
   "source": [
    "rf_estimator = RandomForestClassifier(random_state=1)\n",
    "rf_estimator.fit(X_train,y_train)"
   ]
  },
  {
   "cell_type": "code",
   "execution_count": 63,
   "id": "a5e00a0e",
   "metadata": {},
   "outputs": [
    {
     "data": {
      "text/html": [
       "<div>\n",
       "<style scoped>\n",
       "    .dataframe tbody tr th:only-of-type {\n",
       "        vertical-align: middle;\n",
       "    }\n",
       "\n",
       "    .dataframe tbody tr th {\n",
       "        vertical-align: top;\n",
       "    }\n",
       "\n",
       "    .dataframe thead th {\n",
       "        text-align: right;\n",
       "    }\n",
       "</style>\n",
       "<table border=\"1\" class=\"dataframe\">\n",
       "  <thead>\n",
       "    <tr style=\"text-align: right;\">\n",
       "      <th>Metric</th>\n",
       "      <th>Train_Accuracy</th>\n",
       "      <th>Test_Accuracy</th>\n",
       "      <th>Train_Recall</th>\n",
       "      <th>Test_Recall</th>\n",
       "      <th>Train_Precision</th>\n",
       "      <th>Test_Precision</th>\n",
       "      <th>Train_F1-Score</th>\n",
       "      <th>Test_F1-Score</th>\n",
       "    </tr>\n",
       "  </thead>\n",
       "  <tbody>\n",
       "    <tr>\n",
       "      <th>Score</th>\n",
       "      <td>1.0</td>\n",
       "      <td>0.489</td>\n",
       "      <td>1.0</td>\n",
       "      <td>0.461358</td>\n",
       "      <td>1.0</td>\n",
       "      <td>0.484133</td>\n",
       "      <td>1.0</td>\n",
       "      <td>0.472471</td>\n",
       "    </tr>\n",
       "  </tbody>\n",
       "</table>\n",
       "</div>"
      ],
      "text/plain": [
       "Metric  Train_Accuracy  Test_Accuracy  Train_Recall  Test_Recall  \\\n",
       "Score              1.0          0.489           1.0     0.461358   \n",
       "\n",
       "Metric  Train_Precision  Test_Precision  Train_F1-Score  Test_F1-Score  \n",
       "Score               1.0        0.484133             1.0       0.472471  "
      ]
     },
     "metadata": {},
     "output_type": "display_data"
    },
    {
     "data": {
      "image/png": "[encoded data removed]",
      "text/plain": [
       "<Figure size 432x288 with 2 Axes>"
      ]
     },
     "metadata": {
      "needs_background": "light"
     },
     "output_type": "display_data"
    },
    {
     "data": {
      "image/png": "[encoded data removed]",
      "text/plain": [
       "<Figure size 432x288 with 2 Axes>"
      ]
     },
     "metadata": {
      "needs_background": "light"
     },
     "output_type": "display_data"
    }
   ],
   "source": [
    "score_list_rf=get_metrics_score(rf_estimator,X_train,X_test,y_train,y_test)\n",
    "add_score_model(score_list_rf)"
   ]
  },
  {
   "cell_type": "markdown",
   "id": "a65b0064",
   "metadata": {},
   "source": [
    "#### Random forest is also overfitting the traning data"
   ]
  },
  {
   "cell_type": "markdown",
   "id": "ca5981ad",
   "metadata": {},
   "source": [
    "### Tuning Random Forest "
   ]
  },
  {
   "cell_type": "code",
   "execution_count": 64,
   "id": "58e718fd",
   "metadata": {},
   "outputs": [],
   "source": [
    "# Choose the type of classifier. \n",
    "rf_tuned = RandomForestClassifier(class_weight={0:0.20,1:0.80},random_state=1)"
   ]
  },
  {
   "cell_type": "code",
   "execution_count": 65,
   "id": "7af843ee",
   "metadata": {},
   "outputs": [],
   "source": [
    "parameters = { \"max_depth\":[5,9,15],\n",
    "               \"n_estimators\": [150,200,250,500],\n",
    "               \"min_samples_leaf\": np.arange(5, 10),\n",
    "                \"max_features\": ['auto'],\n",
    "                \"max_samples\": np.arange(0.3,0.5, 0.7)\n",
    "              }"
   ]
  },
  {
   "cell_type": "code",
   "execution_count": 66,
   "id": "2b04ef09",
   "metadata": {},
   "outputs": [],
   "source": [
    "# Type of scoring used to compare parameter combinations\n",
    "scorer = metrics.make_scorer(metrics.recall_score)"
   ]
  },
  {
   "cell_type": "code",
   "execution_count": 67,
   "id": "089ff7eb",
   "metadata": {},
   "outputs": [],
   "source": [
    "# Run the grid search\n",
    "grid_obj = GridSearchCV(rf_tuned, parameters, scoring=scorer,cv=5,n_jobs=-1)\n",
    "grid_obj = grid_obj.fit(X_train, y_train)"
   ]
  },
  {
   "cell_type": "code",
   "execution_count": 68,
   "id": "c90fe4c8",
   "metadata": {},
   "outputs": [],
   "source": [
    "# Set the clf to the best combination of parameters\n",
    "rf_tuned = grid_obj.best_estimator_"
   ]
  },
  {
   "cell_type": "code",
   "execution_count": 69,
   "id": "58e3c85b",
   "metadata": {},
   "outputs": [
    {
     "data": {
      "text/plain": [
       "RandomForestClassifier(class_weight={0: 0.2, 1: 0.8}, max_depth=5,\n",
       "                       max_samples=0.3, min_samples_leaf=5, n_estimators=150,\n",
       "                       random_state=1)"
      ]
     },
     "execution_count": 69,
     "metadata": {},
     "output_type": "execute_result"
    }
   ],
   "source": [
    "# Fit the best algorithm to the data. \n",
    "rf_tuned.fit(X_train, y_train)"
   ]
  },
  {
   "cell_type": "code",
   "execution_count": 70,
   "id": "558a65f4",
   "metadata": {
    "scrolled": true
   },
   "outputs": [
    {
     "data": {
      "text/html": [
       "<div>\n",
       "<style scoped>\n",
       "    .dataframe tbody tr th:only-of-type {\n",
       "        vertical-align: middle;\n",
       "    }\n",
       "\n",
       "    .dataframe tbody tr th {\n",
       "        vertical-align: top;\n",
       "    }\n",
       "\n",
       "    .dataframe thead th {\n",
       "        text-align: right;\n",
       "    }\n",
       "</style>\n",
       "<table border=\"1\" class=\"dataframe\">\n",
       "  <thead>\n",
       "    <tr style=\"text-align: right;\">\n",
       "      <th>Metric</th>\n",
       "      <th>Train_Accuracy</th>\n",
       "      <th>Test_Accuracy</th>\n",
       "      <th>Train_Recall</th>\n",
       "      <th>Test_Recall</th>\n",
       "      <th>Train_Precision</th>\n",
       "      <th>Test_Precision</th>\n",
       "      <th>Train_F1-Score</th>\n",
       "      <th>Test_F1-Score</th>\n",
       "    </tr>\n",
       "  </thead>\n",
       "  <tbody>\n",
       "    <tr>\n",
       "      <th>Score</th>\n",
       "      <td>0.496042</td>\n",
       "      <td>0.496</td>\n",
       "      <td>1.0</td>\n",
       "      <td>1.0</td>\n",
       "      <td>0.496042</td>\n",
       "      <td>0.496</td>\n",
       "      <td>0.663139</td>\n",
       "      <td>0.663102</td>\n",
       "    </tr>\n",
       "  </tbody>\n",
       "</table>\n",
       "</div>"
      ],
      "text/plain": [
       "Metric  Train_Accuracy  Test_Accuracy  Train_Recall  Test_Recall  \\\n",
       "Score         0.496042          0.496           1.0          1.0   \n",
       "\n",
       "Metric  Train_Precision  Test_Precision  Train_F1-Score  Test_F1-Score  \n",
       "Score          0.496042           0.496        0.663139       0.663102  "
      ]
     },
     "metadata": {},
     "output_type": "display_data"
    },
    {
     "data": {
      "image/png": "[encoded data removed]",
      "text/plain": [
       "<Figure size 432x288 with 2 Axes>"
      ]
     },
     "metadata": {
      "needs_background": "light"
     },
     "output_type": "display_data"
    },
    {
     "data": {
      "image/png": "[encoded data removed]",
      "text/plain": [
       "<Figure size 432x288 with 2 Axes>"
      ]
     },
     "metadata": {
      "needs_background": "light"
     },
     "output_type": "display_data"
    }
   ],
   "source": [
    "score_tune_rt=get_metrics_score(rf_tuned,X_train,X_test,y_train,y_test)\n",
    "add_score_model(score_tune_rt) "
   ]
  },
  {
   "cell_type": "markdown",
   "id": "a23d0818",
   "metadata": {},
   "source": [
    "# Comparision"
   ]
  },
  {
   "cell_type": "code",
   "execution_count": 71,
   "id": "c7f088da",
   "metadata": {},
   "outputs": [],
   "source": [
    "comparison_frame = pd.DataFrame({'Model':['Logistic Regression ',\n",
    "                                          'Decision Tree',\n",
    "                                          'Tuned Decision Tree',\n",
    "                                          'Bagging Classifier',\n",
    "                                          'Tuned Bagging Classifier',\n",
    "                                          'Random Forest',\n",
    "                                          'Tuned Random Forest'], \n",
    "                                          'Train_Accuracy': acc_train,'Test_Accuracy': acc_test,\n",
    "                                          'Train_Recall':recall_train,'Test_Recall':recall_test,\n",
    "                                          'Train_Precision':precision_train,'Test_Precision':precision_test,\n",
    "                                          'Train_F1':f1_train,\n",
    "                                          'Test_F1':f1_test  }) \n",
    "\n"
   ]
  },
  {
   "cell_type": "code",
   "execution_count": 72,
   "id": "24cdc4ad",
   "metadata": {},
   "outputs": [
    {
     "data": {
      "text/html": [
       "<div>\n",
       "<style scoped>\n",
       "    .dataframe tbody tr th:only-of-type {\n",
       "        vertical-align: middle;\n",
       "    }\n",
       "\n",
       "    .dataframe tbody tr th {\n",
       "        vertical-align: top;\n",
       "    }\n",
       "\n",
       "    .dataframe thead th {\n",
       "        text-align: right;\n",
       "    }\n",
       "</style>\n",
       "<table border=\"1\" class=\"dataframe\">\n",
       "  <thead>\n",
       "    <tr style=\"text-align: right;\">\n",
       "      <th></th>\n",
       "      <th>Model</th>\n",
       "      <th>Train_Accuracy</th>\n",
       "      <th>Test_Accuracy</th>\n",
       "      <th>Train_Recall</th>\n",
       "      <th>Test_Recall</th>\n",
       "      <th>Train_Precision</th>\n",
       "      <th>Test_Precision</th>\n",
       "      <th>Train_F1</th>\n",
       "      <th>Test_F1</th>\n",
       "    </tr>\n",
       "  </thead>\n",
       "  <tbody>\n",
       "    <tr>\n",
       "      <th>1</th>\n",
       "      <td>Decision Tree</td>\n",
       "      <td>1.000000</td>\n",
       "      <td>0.494500</td>\n",
       "      <td>1.000000</td>\n",
       "      <td>0.495632</td>\n",
       "      <td>1.000000</td>\n",
       "      <td>0.490522</td>\n",
       "      <td>1.000000</td>\n",
       "      <td>0.493064</td>\n",
       "    </tr>\n",
       "    <tr>\n",
       "      <th>5</th>\n",
       "      <td>Random Forest</td>\n",
       "      <td>1.000000</td>\n",
       "      <td>0.489000</td>\n",
       "      <td>1.000000</td>\n",
       "      <td>0.461358</td>\n",
       "      <td>1.000000</td>\n",
       "      <td>0.484133</td>\n",
       "      <td>1.000000</td>\n",
       "      <td>0.472471</td>\n",
       "    </tr>\n",
       "    <tr>\n",
       "      <th>3</th>\n",
       "      <td>Bagging Classifier</td>\n",
       "      <td>0.978417</td>\n",
       "      <td>0.498167</td>\n",
       "      <td>0.962369</td>\n",
       "      <td>0.397513</td>\n",
       "      <td>0.993927</td>\n",
       "      <td>0.492711</td>\n",
       "      <td>0.977893</td>\n",
       "      <td>0.440022</td>\n",
       "    </tr>\n",
       "    <tr>\n",
       "      <th>2</th>\n",
       "      <td>Tuned Decision Tree</td>\n",
       "      <td>0.508500</td>\n",
       "      <td>0.506833</td>\n",
       "      <td>0.040319</td>\n",
       "      <td>0.032930</td>\n",
       "      <td>0.564042</td>\n",
       "      <td>0.547486</td>\n",
       "      <td>0.075259</td>\n",
       "      <td>0.062124</td>\n",
       "    </tr>\n",
       "    <tr>\n",
       "      <th>0</th>\n",
       "      <td>Logistic Regression</td>\n",
       "      <td>0.503042</td>\n",
       "      <td>0.494833</td>\n",
       "      <td>0.363797</td>\n",
       "      <td>0.342070</td>\n",
       "      <td>0.498733</td>\n",
       "      <td>0.486848</td>\n",
       "      <td>0.420710</td>\n",
       "      <td>0.401816</td>\n",
       "    </tr>\n",
       "    <tr>\n",
       "      <th>4</th>\n",
       "      <td>Tuned Bagging Classifier</td>\n",
       "      <td>0.496042</td>\n",
       "      <td>0.496000</td>\n",
       "      <td>1.000000</td>\n",
       "      <td>1.000000</td>\n",
       "      <td>0.496042</td>\n",
       "      <td>0.496000</td>\n",
       "      <td>0.663139</td>\n",
       "      <td>0.663102</td>\n",
       "    </tr>\n",
       "    <tr>\n",
       "      <th>6</th>\n",
       "      <td>Tuned Random Forest</td>\n",
       "      <td>0.496042</td>\n",
       "      <td>0.496000</td>\n",
       "      <td>1.000000</td>\n",
       "      <td>1.000000</td>\n",
       "      <td>0.496042</td>\n",
       "      <td>0.496000</td>\n",
       "      <td>0.663139</td>\n",
       "      <td>0.663102</td>\n",
       "    </tr>\n",
       "  </tbody>\n",
       "</table>\n",
       "</div>"
      ],
      "text/plain": [
       "                      Model  Train_Accuracy  Test_Accuracy  Train_Recall  \\\n",
       "1             Decision Tree        1.000000       0.494500      1.000000   \n",
       "5             Random Forest        1.000000       0.489000      1.000000   \n",
       "3        Bagging Classifier        0.978417       0.498167      0.962369   \n",
       "2       Tuned Decision Tree        0.508500       0.506833      0.040319   \n",
       "0      Logistic Regression         0.503042       0.494833      0.363797   \n",
       "4  Tuned Bagging Classifier        0.496042       0.496000      1.000000   \n",
       "6       Tuned Random Forest        0.496042       0.496000      1.000000   \n",
       "\n",
       "   Test_Recall  Train_Precision  Test_Precision  Train_F1   Test_F1  \n",
       "1     0.495632         1.000000        0.490522  1.000000  0.493064  \n",
       "5     0.461358         1.000000        0.484133  1.000000  0.472471  \n",
       "3     0.397513         0.993927        0.492711  0.977893  0.440022  \n",
       "2     0.032930         0.564042        0.547486  0.075259  0.062124  \n",
       "0     0.342070         0.498733        0.486848  0.420710  0.401816  \n",
       "4     1.000000         0.496042        0.496000  0.663139  0.663102  \n",
       "6     1.000000         0.496042        0.496000  0.663139  0.663102  "
      ]
     },
     "execution_count": 72,
     "metadata": {},
     "output_type": "execute_result"
    }
   ],
   "source": [
    "#Sorting models in decreasing order of test recall\n",
    "comparison_frame.sort_values(by='Train_Accuracy',ascending=False)"
   ]
  },
  {
   "cell_type": "markdown",
   "id": "ef5b3c6c",
   "metadata": {},
   "source": [
    "# Ada Boosting"
   ]
  },
  {
   "cell_type": "code",
   "execution_count": 73,
   "id": "11388aae",
   "metadata": {},
   "outputs": [
    {
     "data": {
      "text/plain": [
       "AdaBoostClassifier(random_state=1)"
      ]
     },
     "execution_count": 73,
     "metadata": {},
     "output_type": "execute_result"
    }
   ],
   "source": [
    "adaboost = AdaBoostClassifier(random_state=1)\n",
    "adaboost.fit(X_train,y_train)"
   ]
  },
  {
   "cell_type": "code",
   "execution_count": 74,
   "id": "b2cfe802",
   "metadata": {},
   "outputs": [
    {
     "data": {
      "text/html": [
       "<div>\n",
       "<style scoped>\n",
       "    .dataframe tbody tr th:only-of-type {\n",
       "        vertical-align: middle;\n",
       "    }\n",
       "\n",
       "    .dataframe tbody tr th {\n",
       "        vertical-align: top;\n",
       "    }\n",
       "\n",
       "    .dataframe thead th {\n",
       "        text-align: right;\n",
       "    }\n",
       "</style>\n",
       "<table border=\"1\" class=\"dataframe\">\n",
       "  <thead>\n",
       "    <tr style=\"text-align: right;\">\n",
       "      <th>Metric</th>\n",
       "      <th>Train_Accuracy</th>\n",
       "      <th>Test_Accuracy</th>\n",
       "      <th>Train_Recall</th>\n",
       "      <th>Test_Recall</th>\n",
       "      <th>Train_Precision</th>\n",
       "      <th>Test_Precision</th>\n",
       "      <th>Train_F1-Score</th>\n",
       "      <th>Test_F1-Score</th>\n",
       "    </tr>\n",
       "  </thead>\n",
       "  <tbody>\n",
       "    <tr>\n",
       "      <th>Score</th>\n",
       "      <td>0.527875</td>\n",
       "      <td>0.5015</td>\n",
       "      <td>0.440907</td>\n",
       "      <td>0.415995</td>\n",
       "      <td>0.52892</td>\n",
       "      <td>0.496989</td>\n",
       "      <td>0.48092</td>\n",
       "      <td>0.452899</td>\n",
       "    </tr>\n",
       "  </tbody>\n",
       "</table>\n",
       "</div>"
      ],
      "text/plain": [
       "Metric  Train_Accuracy  Test_Accuracy  Train_Recall  Test_Recall  \\\n",
       "Score         0.527875         0.5015      0.440907     0.415995   \n",
       "\n",
       "Metric  Train_Precision  Test_Precision  Train_F1-Score  Test_F1-Score  \n",
       "Score           0.52892        0.496989         0.48092       0.452899  "
      ]
     },
     "metadata": {},
     "output_type": "display_data"
    },
    {
     "data": {
      "image/png": "[encoded data removed]",
      "text/plain": [
       "<Figure size 432x288 with 2 Axes>"
      ]
     },
     "metadata": {
      "needs_background": "light"
     },
     "output_type": "display_data"
    },
    {
     "data": {
      "image/png": "[encoded data removed]",
      "text/plain": [
       "<Figure size 432x288 with 2 Axes>"
      ]
     },
     "metadata": {
      "needs_background": "light"
     },
     "output_type": "display_data"
    }
   ],
   "source": [
    "adaboost_score=get_metrics_score(adaboost,X_train,X_test,y_train,y_test)\n",
    "add_score_model(adaboost_score)"
   ]
  },
  {
   "cell_type": "markdown",
   "id": "0d323d70",
   "metadata": {},
   "source": [
    "## Gradient Boosting"
   ]
  },
  {
   "cell_type": "code",
   "execution_count": 75,
   "id": "3b76ce33",
   "metadata": {},
   "outputs": [
    {
     "data": {
      "text/html": [
       "<div>\n",
       "<style scoped>\n",
       "    .dataframe tbody tr th:only-of-type {\n",
       "        vertical-align: middle;\n",
       "    }\n",
       "\n",
       "    .dataframe tbody tr th {\n",
       "        vertical-align: top;\n",
       "    }\n",
       "\n",
       "    .dataframe thead th {\n",
       "        text-align: right;\n",
       "    }\n",
       "</style>\n",
       "<table border=\"1\" class=\"dataframe\">\n",
       "  <thead>\n",
       "    <tr style=\"text-align: right;\">\n",
       "      <th>Metric</th>\n",
       "      <th>Train_Accuracy</th>\n",
       "      <th>Test_Accuracy</th>\n",
       "      <th>Train_Recall</th>\n",
       "      <th>Test_Recall</th>\n",
       "      <th>Train_Precision</th>\n",
       "      <th>Test_Precision</th>\n",
       "      <th>Train_F1-Score</th>\n",
       "      <th>Test_F1-Score</th>\n",
       "    </tr>\n",
       "  </thead>\n",
       "  <tbody>\n",
       "    <tr>\n",
       "      <th>Score</th>\n",
       "      <td>0.56325</td>\n",
       "      <td>0.503667</td>\n",
       "      <td>0.424948</td>\n",
       "      <td>0.362903</td>\n",
       "      <td>0.581829</td>\n",
       "      <td>0.499537</td>\n",
       "      <td>0.491165</td>\n",
       "      <td>0.420397</td>\n",
       "    </tr>\n",
       "  </tbody>\n",
       "</table>\n",
       "</div>"
      ],
      "text/plain": [
       "Metric  Train_Accuracy  Test_Accuracy  Train_Recall  Test_Recall  \\\n",
       "Score          0.56325       0.503667      0.424948     0.362903   \n",
       "\n",
       "Metric  Train_Precision  Test_Precision  Train_F1-Score  Test_F1-Score  \n",
       "Score          0.581829        0.499537        0.491165       0.420397  "
      ]
     },
     "metadata": {},
     "output_type": "display_data"
    },
    {
     "data": {
      "image/png": "[encoded data removed]",
      "text/plain": [
       "<Figure size 432x288 with 2 Axes>"
      ]
     },
     "metadata": {
      "needs_background": "light"
     },
     "output_type": "display_data"
    },
    {
     "data": {
      "image/png": "[encoded data removed]",
      "text/plain": [
       "<Figure size 432x288 with 2 Axes>"
      ]
     },
     "metadata": {
      "needs_background": "light"
     },
     "output_type": "display_data"
    }
   ],
   "source": [
    "gbc = GradientBoostingClassifier(random_state=1)\n",
    "gbc.fit(X_train,y_train)\n",
    "gbc_score=get_metrics_score(gbc,X_train,X_test,y_train,y_test)\n",
    "add_score_model(gbc_score)"
   ]
  },
  {
   "cell_type": "markdown",
   "id": "4739a061",
   "metadata": {},
   "source": [
    "## Comparision"
   ]
  },
  {
   "cell_type": "code",
   "execution_count": 76,
   "id": "d664e1e6",
   "metadata": {},
   "outputs": [],
   "source": [
    "comparison_frame = pd.DataFrame({'Model':['Logistic Regression',\n",
    "                                          'Decision Tree',\n",
    "                                          'Random Forest',\n",
    "                                          'Bagging Classifier',\n",
    "                                          'Tuned Decision Tree',\n",
    "                                          'Tuned Random Forest',\n",
    "                                          'Tuned Bagging Classifier',\n",
    "                                          'AdaBoost',\n",
    "                                          'Gradient Boost',\n",
    "                                          ], \n",
    "                                          'Train_Accuracy': acc_train,'Test_Accuracy': acc_test,\n",
    "                                          'Train_Recall':recall_train,'Test_Recall':recall_test,\n",
    "                                          'Train_Precision':precision_train,'Test_Precision':precision_test,\n",
    "                                           'Train_F1':f1_train,\n",
    "                                          'Test_F1':f1_test  }) "
   ]
  },
  {
   "cell_type": "code",
   "execution_count": 77,
   "id": "82ae8d2f",
   "metadata": {},
   "outputs": [
    {
     "data": {
      "text/html": [
       "<div>\n",
       "<style scoped>\n",
       "    .dataframe tbody tr th:only-of-type {\n",
       "        vertical-align: middle;\n",
       "    }\n",
       "\n",
       "    .dataframe tbody tr th {\n",
       "        vertical-align: top;\n",
       "    }\n",
       "\n",
       "    .dataframe thead th {\n",
       "        text-align: right;\n",
       "    }\n",
       "</style>\n",
       "<table border=\"1\" class=\"dataframe\">\n",
       "  <thead>\n",
       "    <tr style=\"text-align: right;\">\n",
       "      <th></th>\n",
       "      <th>Model</th>\n",
       "      <th>Train_Accuracy</th>\n",
       "      <th>Test_Accuracy</th>\n",
       "      <th>Train_Recall</th>\n",
       "      <th>Test_Recall</th>\n",
       "      <th>Train_Precision</th>\n",
       "      <th>Test_Precision</th>\n",
       "      <th>Train_F1</th>\n",
       "      <th>Test_F1</th>\n",
       "    </tr>\n",
       "  </thead>\n",
       "  <tbody>\n",
       "    <tr>\n",
       "      <th>4</th>\n",
       "      <td>Tuned Decision Tree</td>\n",
       "      <td>0.496042</td>\n",
       "      <td>0.496000</td>\n",
       "      <td>1.000000</td>\n",
       "      <td>1.000000</td>\n",
       "      <td>0.496042</td>\n",
       "      <td>0.496000</td>\n",
       "      <td>0.663139</td>\n",
       "      <td>0.663102</td>\n",
       "    </tr>\n",
       "    <tr>\n",
       "      <th>6</th>\n",
       "      <td>Tuned Bagging Classifier</td>\n",
       "      <td>0.496042</td>\n",
       "      <td>0.496000</td>\n",
       "      <td>1.000000</td>\n",
       "      <td>1.000000</td>\n",
       "      <td>0.496042</td>\n",
       "      <td>0.496000</td>\n",
       "      <td>0.663139</td>\n",
       "      <td>0.663102</td>\n",
       "    </tr>\n",
       "    <tr>\n",
       "      <th>0</th>\n",
       "      <td>Logistic Regression</td>\n",
       "      <td>0.503042</td>\n",
       "      <td>0.494833</td>\n",
       "      <td>0.363797</td>\n",
       "      <td>0.342070</td>\n",
       "      <td>0.498733</td>\n",
       "      <td>0.486848</td>\n",
       "      <td>0.420710</td>\n",
       "      <td>0.401816</td>\n",
       "    </tr>\n",
       "    <tr>\n",
       "      <th>2</th>\n",
       "      <td>Random Forest</td>\n",
       "      <td>0.508500</td>\n",
       "      <td>0.506833</td>\n",
       "      <td>0.040319</td>\n",
       "      <td>0.032930</td>\n",
       "      <td>0.564042</td>\n",
       "      <td>0.547486</td>\n",
       "      <td>0.075259</td>\n",
       "      <td>0.062124</td>\n",
       "    </tr>\n",
       "    <tr>\n",
       "      <th>7</th>\n",
       "      <td>AdaBoost</td>\n",
       "      <td>0.527875</td>\n",
       "      <td>0.501500</td>\n",
       "      <td>0.440907</td>\n",
       "      <td>0.415995</td>\n",
       "      <td>0.528920</td>\n",
       "      <td>0.496989</td>\n",
       "      <td>0.480920</td>\n",
       "      <td>0.452899</td>\n",
       "    </tr>\n",
       "    <tr>\n",
       "      <th>8</th>\n",
       "      <td>Gradient Boost</td>\n",
       "      <td>0.563250</td>\n",
       "      <td>0.503667</td>\n",
       "      <td>0.424948</td>\n",
       "      <td>0.362903</td>\n",
       "      <td>0.581829</td>\n",
       "      <td>0.499537</td>\n",
       "      <td>0.491165</td>\n",
       "      <td>0.420397</td>\n",
       "    </tr>\n",
       "    <tr>\n",
       "      <th>3</th>\n",
       "      <td>Bagging Classifier</td>\n",
       "      <td>0.978417</td>\n",
       "      <td>0.498167</td>\n",
       "      <td>0.962369</td>\n",
       "      <td>0.397513</td>\n",
       "      <td>0.993927</td>\n",
       "      <td>0.492711</td>\n",
       "      <td>0.977893</td>\n",
       "      <td>0.440022</td>\n",
       "    </tr>\n",
       "    <tr>\n",
       "      <th>1</th>\n",
       "      <td>Decision Tree</td>\n",
       "      <td>1.000000</td>\n",
       "      <td>0.494500</td>\n",
       "      <td>1.000000</td>\n",
       "      <td>0.495632</td>\n",
       "      <td>1.000000</td>\n",
       "      <td>0.490522</td>\n",
       "      <td>1.000000</td>\n",
       "      <td>0.493064</td>\n",
       "    </tr>\n",
       "    <tr>\n",
       "      <th>5</th>\n",
       "      <td>Tuned Random Forest</td>\n",
       "      <td>1.000000</td>\n",
       "      <td>0.489000</td>\n",
       "      <td>1.000000</td>\n",
       "      <td>0.461358</td>\n",
       "      <td>1.000000</td>\n",
       "      <td>0.484133</td>\n",
       "      <td>1.000000</td>\n",
       "      <td>0.472471</td>\n",
       "    </tr>\n",
       "  </tbody>\n",
       "</table>\n",
       "</div>"
      ],
      "text/plain": [
       "                      Model  Train_Accuracy  Test_Accuracy  Train_Recall  \\\n",
       "4       Tuned Decision Tree        0.496042       0.496000      1.000000   \n",
       "6  Tuned Bagging Classifier        0.496042       0.496000      1.000000   \n",
       "0       Logistic Regression        0.503042       0.494833      0.363797   \n",
       "2             Random Forest        0.508500       0.506833      0.040319   \n",
       "7                  AdaBoost        0.527875       0.501500      0.440907   \n",
       "8            Gradient Boost        0.563250       0.503667      0.424948   \n",
       "3        Bagging Classifier        0.978417       0.498167      0.962369   \n",
       "1             Decision Tree        1.000000       0.494500      1.000000   \n",
       "5       Tuned Random Forest        1.000000       0.489000      1.000000   \n",
       "\n",
       "   Test_Recall  Train_Precision  Test_Precision  Train_F1   Test_F1  \n",
       "4     1.000000         0.496042        0.496000  0.663139  0.663102  \n",
       "6     1.000000         0.496042        0.496000  0.663139  0.663102  \n",
       "0     0.342070         0.498733        0.486848  0.420710  0.401816  \n",
       "2     0.032930         0.564042        0.547486  0.075259  0.062124  \n",
       "7     0.415995         0.528920        0.496989  0.480920  0.452899  \n",
       "8     0.362903         0.581829        0.499537  0.491165  0.420397  \n",
       "3     0.397513         0.993927        0.492711  0.977893  0.440022  \n",
       "1     0.495632         1.000000        0.490522  1.000000  0.493064  \n",
       "5     0.461358         1.000000        0.484133  1.000000  0.472471  "
      ]
     },
     "execution_count": 77,
     "metadata": {},
     "output_type": "execute_result"
    }
   ],
   "source": [
    "#Sorting models in decreasing order of test recall\n",
    "comparison_frame.sort_values(by='Train_Accuracy',ascending=True)"
   ]
  },
  {
   "cell_type": "markdown",
   "id": "5df736ff",
   "metadata": {},
   "source": [
    "## Observations\n",
    "\n",
    "Logistic regression gives a more generalized model.\n",
    "Adaboost seems good. "
   ]
  },
  {
   "cell_type": "markdown",
   "id": "577ec977",
   "metadata": {},
   "source": [
    "# Stacking"
   ]
  },
  {
   "cell_type": "code",
   "execution_count": 78,
   "id": "ef084a4b",
   "metadata": {},
   "outputs": [],
   "source": [
    "SupportVectorMachine = SVC()\n",
    "KNeighbors = KNeighborsClassifier()\n",
    "RandomForest = RandomForestClassifier(max_depth = 1,random_state=1)\n",
    "ExtraTree = ExtraTreeClassifier()\n",
    "GradientBoost = GradientBoostingClassifier()\n",
    "AdaBoost = AdaBoostClassifier(DecisionTreeClassifier())\n",
    "dtr = DecisionTreeClassifier(max_depth=4)"
   ]
  },
  {
   "cell_type": "code",
   "execution_count": 79,
   "id": "aea5a427",
   "metadata": {},
   "outputs": [],
   "source": [
    "stacking_model = StackingClassifier(\n",
    "    estimators=[\n",
    "        ('SupportVectorMachine', SupportVectorMachine),\n",
    "        ('KNeighbors', KNeighbors),\n",
    "        ('RandomForest', RandomForest),\n",
    "        ('ExtraTree', ExtraTree),\n",
    "        ('GBDT', GradientBoost),\n",
    "        ('AdaBoost', AdaBoost),\n",
    "        ('dtr',dtr)\n",
    "        ],\n",
    "    final_estimator=LogisticRegression(), stack_method='auto'\n",
    ")"
   ]
  },
  {
   "cell_type": "code",
   "execution_count": 80,
   "id": "fd99a1b2",
   "metadata": {},
   "outputs": [],
   "source": [
    "final_model = stacking_model"
   ]
  },
  {
   "cell_type": "code",
   "execution_count": 81,
   "id": "d96fb940",
   "metadata": {},
   "outputs": [
    {
     "data": {
      "text/plain": [
       "StackingClassifier(estimators=[('SupportVectorMachine', SVC()),\n",
       "                               ('KNeighbors', KNeighborsClassifier()),\n",
       "                               ('RandomForest',\n",
       "                                RandomForestClassifier(max_depth=1,\n",
       "                                                       random_state=1)),\n",
       "                               ('ExtraTree', ExtraTreeClassifier()),\n",
       "                               ('GBDT', GradientBoostingClassifier()),\n",
       "                               ('AdaBoost',\n",
       "                                AdaBoostClassifier(base_estimator=DecisionTreeClassifier())),\n",
       "                               ('dtr', DecisionTreeClassifier(max_depth=4))],\n",
       "                   final_estimator=LogisticRegression())"
      ]
     },
     "execution_count": 81,
     "metadata": {},
     "output_type": "execute_result"
    }
   ],
   "source": [
    "final_model.fit(X_train, y_train)"
   ]
  },
  {
   "cell_type": "code",
   "execution_count": 82,
   "id": "b460358c",
   "metadata": {},
   "outputs": [
    {
     "data": {
      "text/html": [
       "<div>\n",
       "<style scoped>\n",
       "    .dataframe tbody tr th:only-of-type {\n",
       "        vertical-align: middle;\n",
       "    }\n",
       "\n",
       "    .dataframe tbody tr th {\n",
       "        vertical-align: top;\n",
       "    }\n",
       "\n",
       "    .dataframe thead th {\n",
       "        text-align: right;\n",
       "    }\n",
       "</style>\n",
       "<table border=\"1\" class=\"dataframe\">\n",
       "  <thead>\n",
       "    <tr style=\"text-align: right;\">\n",
       "      <th>Metric</th>\n",
       "      <th>Train_Accuracy</th>\n",
       "      <th>Test_Accuracy</th>\n",
       "      <th>Train_Recall</th>\n",
       "      <th>Test_Recall</th>\n",
       "      <th>Train_Precision</th>\n",
       "      <th>Test_Precision</th>\n",
       "      <th>Train_F1-Score</th>\n",
       "      <th>Test_F1-Score</th>\n",
       "    </tr>\n",
       "  </thead>\n",
       "  <tbody>\n",
       "    <tr>\n",
       "      <th>Score</th>\n",
       "      <td>0.115542</td>\n",
       "      <td>0.4965</td>\n",
       "      <td>0.01386</td>\n",
       "      <td>0.438172</td>\n",
       "      <td>0.017095</td>\n",
       "      <td>0.491519</td>\n",
       "      <td>0.015308</td>\n",
       "      <td>0.463315</td>\n",
       "    </tr>\n",
       "  </tbody>\n",
       "</table>\n",
       "</div>"
      ],
      "text/plain": [
       "Metric  Train_Accuracy  Test_Accuracy  Train_Recall  Test_Recall  \\\n",
       "Score         0.115542         0.4965       0.01386     0.438172   \n",
       "\n",
       "Metric  Train_Precision  Test_Precision  Train_F1-Score  Test_F1-Score  \n",
       "Score          0.017095        0.491519        0.015308       0.463315  "
      ]
     },
     "metadata": {},
     "output_type": "display_data"
    },
    {
     "data": {
      "image/png": "[encoded data removed]",
      "text/plain": [
       "<Figure size 432x288 with 2 Axes>"
      ]
     },
     "metadata": {
      "needs_background": "light"
     },
     "output_type": "display_data"
    },
    {
     "data": {
      "image/png": "[encoded data removed]",
      "text/plain": [
       "<Figure size 432x288 with 2 Axes>"
      ]
     },
     "metadata": {
      "needs_background": "light"
     },
     "output_type": "display_data"
    }
   ],
   "source": [
    "score_stacking =  get_metrics_score(final_model,X_train,X_test,y_train,y_test)\n",
    "add_score_model(score_stacking)"
   ]
  },
  {
   "cell_type": "markdown",
   "id": "24c4f5be",
   "metadata": {},
   "source": [
    "# Comparision"
   ]
  },
  {
   "cell_type": "code",
   "execution_count": 83,
   "id": "dd9240eb",
   "metadata": {
    "scrolled": true
   },
   "outputs": [],
   "source": [
    "comparison_frame = pd.DataFrame({'Model':['Logistic Regression ',\n",
    "                                          'Decision Tree',\n",
    "                                          'Tuned Decision Tree',\n",
    "                                          'Bagging Classifier',\n",
    "                                          'Tuned Bagging Classifier',\n",
    "                                          'Random Forest',\n",
    "                                          'Tuned Random Forest',\n",
    "                                          'AdaBoosting',\n",
    "                                          'Gradient Boosting',\n",
    "                                          'Stacking'],\n",
    "                                          'Train_Accuracy': acc_train,'Test_Accuracy': acc_test,\n",
    "                                          'Train_Recall':recall_train,'Test_Recall':recall_test,\n",
    "                                          'Train_Precision':precision_train,'Test_Precision':precision_test,\n",
    "                                          'Train_F1':f1_train\n",
    "                                          })\n"
   ]
  },
  {
   "cell_type": "code",
   "execution_count": 84,
   "id": "83fb4793",
   "metadata": {},
   "outputs": [
    {
     "data": {
      "text/html": [
       "<div>\n",
       "<style scoped>\n",
       "    .dataframe tbody tr th:only-of-type {\n",
       "        vertical-align: middle;\n",
       "    }\n",
       "\n",
       "    .dataframe tbody tr th {\n",
       "        vertical-align: top;\n",
       "    }\n",
       "\n",
       "    .dataframe thead th {\n",
       "        text-align: right;\n",
       "    }\n",
       "</style>\n",
       "<table border=\"1\" class=\"dataframe\">\n",
       "  <thead>\n",
       "    <tr style=\"text-align: right;\">\n",
       "      <th></th>\n",
       "      <th>Model</th>\n",
       "      <th>Train_Accuracy</th>\n",
       "      <th>Test_Accuracy</th>\n",
       "      <th>Train_Recall</th>\n",
       "      <th>Test_Recall</th>\n",
       "      <th>Train_Precision</th>\n",
       "      <th>Test_Precision</th>\n",
       "      <th>Train_F1</th>\n",
       "    </tr>\n",
       "  </thead>\n",
       "  <tbody>\n",
       "    <tr>\n",
       "      <th>9</th>\n",
       "      <td>Stacking</td>\n",
       "      <td>0.115542</td>\n",
       "      <td>0.496500</td>\n",
       "      <td>0.013860</td>\n",
       "      <td>0.438172</td>\n",
       "      <td>0.017095</td>\n",
       "      <td>0.491519</td>\n",
       "      <td>0.015308</td>\n",
       "    </tr>\n",
       "    <tr>\n",
       "      <th>4</th>\n",
       "      <td>Tuned Bagging Classifier</td>\n",
       "      <td>0.496042</td>\n",
       "      <td>0.496000</td>\n",
       "      <td>1.000000</td>\n",
       "      <td>1.000000</td>\n",
       "      <td>0.496042</td>\n",
       "      <td>0.496000</td>\n",
       "      <td>0.663139</td>\n",
       "    </tr>\n",
       "    <tr>\n",
       "      <th>6</th>\n",
       "      <td>Tuned Random Forest</td>\n",
       "      <td>0.496042</td>\n",
       "      <td>0.496000</td>\n",
       "      <td>1.000000</td>\n",
       "      <td>1.000000</td>\n",
       "      <td>0.496042</td>\n",
       "      <td>0.496000</td>\n",
       "      <td>0.663139</td>\n",
       "    </tr>\n",
       "    <tr>\n",
       "      <th>0</th>\n",
       "      <td>Logistic Regression</td>\n",
       "      <td>0.503042</td>\n",
       "      <td>0.494833</td>\n",
       "      <td>0.363797</td>\n",
       "      <td>0.342070</td>\n",
       "      <td>0.498733</td>\n",
       "      <td>0.486848</td>\n",
       "      <td>0.420710</td>\n",
       "    </tr>\n",
       "    <tr>\n",
       "      <th>2</th>\n",
       "      <td>Tuned Decision Tree</td>\n",
       "      <td>0.508500</td>\n",
       "      <td>0.506833</td>\n",
       "      <td>0.040319</td>\n",
       "      <td>0.032930</td>\n",
       "      <td>0.564042</td>\n",
       "      <td>0.547486</td>\n",
       "      <td>0.075259</td>\n",
       "    </tr>\n",
       "    <tr>\n",
       "      <th>7</th>\n",
       "      <td>AdaBoosting</td>\n",
       "      <td>0.527875</td>\n",
       "      <td>0.501500</td>\n",
       "      <td>0.440907</td>\n",
       "      <td>0.415995</td>\n",
       "      <td>0.528920</td>\n",
       "      <td>0.496989</td>\n",
       "      <td>0.480920</td>\n",
       "    </tr>\n",
       "    <tr>\n",
       "      <th>8</th>\n",
       "      <td>Gradient Boosting</td>\n",
       "      <td>0.563250</td>\n",
       "      <td>0.503667</td>\n",
       "      <td>0.424948</td>\n",
       "      <td>0.362903</td>\n",
       "      <td>0.581829</td>\n",
       "      <td>0.499537</td>\n",
       "      <td>0.491165</td>\n",
       "    </tr>\n",
       "    <tr>\n",
       "      <th>3</th>\n",
       "      <td>Bagging Classifier</td>\n",
       "      <td>0.978417</td>\n",
       "      <td>0.498167</td>\n",
       "      <td>0.962369</td>\n",
       "      <td>0.397513</td>\n",
       "      <td>0.993927</td>\n",
       "      <td>0.492711</td>\n",
       "      <td>0.977893</td>\n",
       "    </tr>\n",
       "    <tr>\n",
       "      <th>1</th>\n",
       "      <td>Decision Tree</td>\n",
       "      <td>1.000000</td>\n",
       "      <td>0.494500</td>\n",
       "      <td>1.000000</td>\n",
       "      <td>0.495632</td>\n",
       "      <td>1.000000</td>\n",
       "      <td>0.490522</td>\n",
       "      <td>1.000000</td>\n",
       "    </tr>\n",
       "    <tr>\n",
       "      <th>5</th>\n",
       "      <td>Random Forest</td>\n",
       "      <td>1.000000</td>\n",
       "      <td>0.489000</td>\n",
       "      <td>1.000000</td>\n",
       "      <td>0.461358</td>\n",
       "      <td>1.000000</td>\n",
       "      <td>0.484133</td>\n",
       "      <td>1.000000</td>\n",
       "    </tr>\n",
       "  </tbody>\n",
       "</table>\n",
       "</div>"
      ],
      "text/plain": [
       "                      Model  Train_Accuracy  Test_Accuracy  Train_Recall  \\\n",
       "9                  Stacking        0.115542       0.496500      0.013860   \n",
       "4  Tuned Bagging Classifier        0.496042       0.496000      1.000000   \n",
       "6       Tuned Random Forest        0.496042       0.496000      1.000000   \n",
       "0      Logistic Regression         0.503042       0.494833      0.363797   \n",
       "2       Tuned Decision Tree        0.508500       0.506833      0.040319   \n",
       "7               AdaBoosting        0.527875       0.501500      0.440907   \n",
       "8         Gradient Boosting        0.563250       0.503667      0.424948   \n",
       "3        Bagging Classifier        0.978417       0.498167      0.962369   \n",
       "1             Decision Tree        1.000000       0.494500      1.000000   \n",
       "5             Random Forest        1.000000       0.489000      1.000000   \n",
       "\n",
       "   Test_Recall  Train_Precision  Test_Precision  Train_F1  \n",
       "9     0.438172         0.017095        0.491519  0.015308  \n",
       "4     1.000000         0.496042        0.496000  0.663139  \n",
       "6     1.000000         0.496042        0.496000  0.663139  \n",
       "0     0.342070         0.498733        0.486848  0.420710  \n",
       "2     0.032930         0.564042        0.547486  0.075259  \n",
       "7     0.415995         0.528920        0.496989  0.480920  \n",
       "8     0.362903         0.581829        0.499537  0.491165  \n",
       "3     0.397513         0.993927        0.492711  0.977893  \n",
       "1     0.495632         1.000000        0.490522  1.000000  \n",
       "5     0.461358         1.000000        0.484133  1.000000  "
      ]
     },
     "execution_count": 84,
     "metadata": {},
     "output_type": "execute_result"
    }
   ],
   "source": [
    "comparison_frame.sort_values(by=['Train_Accuracy','Train_Recall'],ascending=True) "
   ]
  },
  {
   "cell_type": "code",
   "execution_count": 85,
   "id": "cc5f96b1",
   "metadata": {},
   "outputs": [],
   "source": [
    "#pip install auto-sklearn"
   ]
  },
  {
   "cell_type": "code",
   "execution_count": 86,
   "id": "00175096",
   "metadata": {},
   "outputs": [],
   "source": [
    "#pip install tpot"
   ]
  },
  {
   "cell_type": "markdown",
   "id": "b2095089",
   "metadata": {},
   "source": [
    "## AutoML"
   ]
  },
  {
   "cell_type": "code",
   "execution_count": 87,
   "id": "4ac3efa6",
   "metadata": {},
   "outputs": [],
   "source": [
    "import tpot"
   ]
  },
  {
   "cell_type": "code",
   "execution_count": 92,
   "id": "72f39094",
   "metadata": {},
   "outputs": [
    {
     "data": {
      "application/vnd.jupyter.widget-view+json": {
       "model_id": "",
       "version_major": 2,
       "version_minor": 0
      },
      "text/plain": [
       "Optimization Progress:   0%|          | 0/300 [00:00<?, ?pipeline/s]"
      ]
     },
     "metadata": {},
     "output_type": "display_data"
    },
    {
     "name": "stdout",
     "output_type": "stream",
     "text": [
      "\n",
      "Generation 1 - Current best internal CV score: 0.506375\n",
      "\n",
      "Generation 2 - Current best internal CV score: 0.506375\n",
      "\n",
      "Generation 3 - Current best internal CV score: 0.5067916666666666\n",
      "\n",
      "Generation 4 - Current best internal CV score: 0.5067916666666666\n",
      "\n",
      "Generation 5 - Current best internal CV score: 0.5067916666666666\n",
      "\n",
      "Best pipeline: ExtraTreesClassifier(Binarizer(input_matrix, threshold=0.7000000000000001), bootstrap=True, criterion=entropy, max_features=1.0, min_samples_leaf=19, min_samples_split=11, n_estimators=100)\n",
      "0.48933333333333334\n"
     ]
    }
   ],
   "source": [
    "from tpot import TPOTClassifier\n",
    "\n",
    "tpot = TPOTClassifier(generations=5, population_size=50, verbosity=2, random_state=42)\n",
    "tpot.fit(X_train, y_train)\n",
    "print(tpot.score(X_test, y_test))\n",
    "tpot.export('tpot_Fraud .py')"
   ]
  },
  {
   "cell_type": "code",
   "execution_count": 93,
   "id": "6e1f65f3",
   "metadata": {
    "scrolled": true
   },
   "outputs": [
    {
     "name": "stdout",
     "output_type": "stream",
     "text": [
      "<class 'pandas.core.frame.DataFrame'>\n",
      "RangeIndex: 30000 entries, 0 to 29999\n",
      "Data columns (total 11 columns):\n",
      " #   Column                    Non-Null Count  Dtype  \n",
      "---  ------                    --------------  -----  \n",
      " 0   Category                  30000 non-null  float64\n",
      " 1   Name_Grocery              30000 non-null  float64\n",
      " 2   Item_Number               30000 non-null  float64\n",
      " 3   Quan_send_by_vendor       30000 non-null  float64\n",
      " 4   Quan_rec_by_procurement   30000 non-null  float64\n",
      " 5   Quan_send_by_procurement  30000 non-null  float64\n",
      " 6   Unit_Purchase_Price       30000 non-null  float64\n",
      " 7   Unit_Selling_price        30000 non-null  float64\n",
      " 8   Eligibility_Criteria      30000 non-null  float64\n",
      " 9   Total_Selling_price       30000 non-null  float64\n",
      " 10  Fraud                     30000 non-null  int32  \n",
      "dtypes: float64(10), int32(1)\n",
      "memory usage: 2.4 MB\n"
     ]
    }
   ],
   "source": [
    "tpot_data = final\n",
    "final.info()"
   ]
  },
  {
   "cell_type": "code",
   "execution_count": 94,
   "id": "d3b4386e",
   "metadata": {},
   "outputs": [],
   "source": [
    "features = tpot_data.drop('Fraud', axis=1)"
   ]
  },
  {
   "cell_type": "code",
   "execution_count": 95,
   "id": "145f9897",
   "metadata": {},
   "outputs": [],
   "source": [
    "training_features, testing_features, training_target, testing_target = \\\n",
    "            train_test_split(features, tpot_data['Fraud'], random_state=None)\n"
   ]
  },
  {
   "cell_type": "code",
   "execution_count": 98,
   "id": "5e4e8f57",
   "metadata": {},
   "outputs": [],
   "source": [
    "# Average CV score on the training set was: 0.5067916666666666\n",
    "exported_pipeline = make_pipeline(\n",
    "    Binarizer(threshold=0.7000000000000001),\n",
    "    ExtraTreesClassifier(bootstrap=True, criterion=\"entropy\", max_features=1.0, min_samples_leaf=19,\n",
    "                         min_samples_split=11, n_estimators=100)\n",
    ")"
   ]
  },
  {
   "cell_type": "code",
   "execution_count": 99,
   "id": "655d1831",
   "metadata": {},
   "outputs": [],
   "source": [
    "# Fix random state for all the steps in exported pipeline\n",
    "set_param_recursive(exported_pipeline.steps, 'random_state', 42)"
   ]
  },
  {
   "cell_type": "code",
   "execution_count": 100,
   "id": "77e00d4d",
   "metadata": {},
   "outputs": [
    {
     "data": {
      "text/plain": [
       "Pipeline(steps=[('binarizer', Binarizer(threshold=0.7000000000000001)),\n",
       "                ('extratreesclassifier',\n",
       "                 ExtraTreesClassifier(bootstrap=True, criterion='entropy',\n",
       "                                      max_features=1.0, min_samples_leaf=19,\n",
       "                                      min_samples_split=11, random_state=42))])"
      ]
     },
     "execution_count": 100,
     "metadata": {},
     "output_type": "execute_result"
    }
   ],
   "source": [
    "exported_pipeline.fit(training_features, training_target)"
   ]
  },
  {
   "cell_type": "code",
   "execution_count": 101,
   "id": "27c3254a",
   "metadata": {},
   "outputs": [],
   "source": [
    "results = exported_pipeline.predict(testing_features)"
   ]
  },
  {
   "cell_type": "code",
   "execution_count": 102,
   "id": "ee7d775f",
   "metadata": {},
   "outputs": [
    {
     "data": {
      "text/plain": [
       "array([0, 0, 1, ..., 1, 1, 1])"
      ]
     },
     "execution_count": 102,
     "metadata": {},
     "output_type": "execute_result"
    }
   ],
   "source": [
    "results"
   ]
  },
  {
   "cell_type": "code",
   "execution_count": 103,
   "id": "ab6b09bc",
   "metadata": {},
   "outputs": [
    {
     "data": {
      "text/html": [
       "<div>\n",
       "<style scoped>\n",
       "    .dataframe tbody tr th:only-of-type {\n",
       "        vertical-align: middle;\n",
       "    }\n",
       "\n",
       "    .dataframe tbody tr th {\n",
       "        vertical-align: top;\n",
       "    }\n",
       "\n",
       "    .dataframe thead th {\n",
       "        text-align: right;\n",
       "    }\n",
       "</style>\n",
       "<table border=\"1\" class=\"dataframe\">\n",
       "  <thead>\n",
       "    <tr style=\"text-align: right;\">\n",
       "      <th>Metric</th>\n",
       "      <th>Train_Accuracy</th>\n",
       "      <th>Test_Accuracy</th>\n",
       "      <th>Train_Recall</th>\n",
       "      <th>Test_Recall</th>\n",
       "      <th>Train_Precision</th>\n",
       "      <th>Test_Precision</th>\n",
       "      <th>Train_F1-Score</th>\n",
       "      <th>Test_F1-Score</th>\n",
       "    </tr>\n",
       "  </thead>\n",
       "  <tbody>\n",
       "    <tr>\n",
       "      <th>Score</th>\n",
       "      <td>0.520708</td>\n",
       "      <td>0.5225</td>\n",
       "      <td>0.470727</td>\n",
       "      <td>0.459341</td>\n",
       "      <td>0.518601</td>\n",
       "      <td>0.521159</td>\n",
       "      <td>0.493505</td>\n",
       "      <td>0.488301</td>\n",
       "    </tr>\n",
       "  </tbody>\n",
       "</table>\n",
       "</div>"
      ],
      "text/plain": [
       "Metric  Train_Accuracy  Test_Accuracy  Train_Recall  Test_Recall  \\\n",
       "Score         0.520708         0.5225      0.470727     0.459341   \n",
       "\n",
       "Metric  Train_Precision  Test_Precision  Train_F1-Score  Test_F1-Score  \n",
       "Score          0.518601        0.521159        0.493505       0.488301  "
      ]
     },
     "metadata": {},
     "output_type": "display_data"
    },
    {
     "data": {
      "image/png": "[encoded data removed]",
      "text/plain": [
       "<Figure size 432x288 with 2 Axes>"
      ]
     },
     "metadata": {
      "needs_background": "light"
     },
     "output_type": "display_data"
    },
    {
     "data": {
      "image/png": "[encoded data removed]",
      "text/plain": [
       "<Figure size 432x288 with 2 Axes>"
      ]
     },
     "metadata": {
      "needs_background": "light"
     },
     "output_type": "display_data"
    }
   ],
   "source": [
    "AutoML = get_metrics_score(exported_pipeline,X_train,X_test,y_train,y_test)"
   ]
  }
 ],
 "metadata": {
  "kernelspec": {
   "display_name": "Python 3 (ipykernel)",
   "language": "python",
   "name": "python3"
  },
  "language_info": {
   "codemirror_mode": {
    "name": "ipython",
    "version": 3
   },
   "file_extension": ".py",
   "mimetype": "text/x-python",
   "name": "python",
   "nbconvert_exporter": "python",
   "pygments_lexer": "ipython3",
   "version": "3.9.12"
  }
 },
 "nbformat": 4,
 "nbformat_minor": 5
}
